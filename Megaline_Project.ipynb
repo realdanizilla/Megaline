{
 "cells": [
  {
   "cell_type": "markdown",
   "metadata": {
    "id": "eAkbw7Ueuj8X"
   },
   "source": [
    "# What is the best plan?\n",
    "\n",
    "You work as an analyst for the telecommunications company Megaline. The company offers customers two prepaid plans: Surf and Ultimate. The commercial department wants to know which plan generates more revenue to adjust the advertising budget.\n",
    "\n",
    "You will conduct a preliminary analysis of the plans based on a small selection of customers. You will have data from 500 Megaline customers: who they are, where they are from, which plan they use, and the number of calls and messages made in 2018. Your task is to analyze customer behavior and determine which prepaid plan generates more revenue."
   ]
  },
  {
   "cell_type": "markdown",
   "metadata": {
    "id": "lnomf-3Xuj8b"
   },
   "source": [
    "## Start-up"
   ]
  },
  {
   "cell_type": "code",
   "execution_count": 1,
   "metadata": {
    "id": "JdJusn5ouj8c"
   },
   "outputs": [],
   "source": [
    "# importing libraries\n",
    "import pandas as pd\n",
    "import numpy as np\n",
    "from scipy import stats as st\n",
    "from math import factorial\n",
    "import math as mt"
   ]
  },
  {
   "cell_type": "markdown",
   "metadata": {
    "id": "rzqsCrgquj8d"
   },
   "source": [
    "## Loading Data"
   ]
  },
  {
   "cell_type": "code",
   "execution_count": 2,
   "metadata": {
    "id": "HmzmQRXIuj8e"
   },
   "outputs": [],
   "source": [
    "# Reading data files\n",
    "df_users = pd.read_csv(\"/datasets/megaline_users.csv\")\n",
    "df_calls = pd.read_csv(\"/datasets/megaline_calls.csv\")\n",
    "df_messages = pd.read_csv(\"/datasets/megaline_messages.csv\")\n",
    "df_internet = pd.read_csv(\"/datasets/megaline_internet.csv\")\n",
    "df_plans = pd.read_csv(\"/datasets/megaline_plans.csv\")\n"
   ]
  },
  {
   "cell_type": "markdown",
   "metadata": {
    "id": "XQh-EeiIuj8e"
   },
   "source": [
    "## Data Preparation"
   ]
  },
  {
   "cell_type": "markdown",
   "metadata": {
    "id": "TlZUw_Cyuj8f"
   },
   "source": [
    "## Plans"
   ]
  },
  {
   "cell_type": "code",
   "execution_count": 3,
   "metadata": {
    "id": "x9qB5mAOuj8f"
   },
   "outputs": [
    {
     "name": "stdout",
     "output_type": "stream",
     "text": [
      "<class 'pandas.core.frame.DataFrame'>\n",
      "RangeIndex: 2 entries, 0 to 1\n",
      "Data columns (total 8 columns):\n",
      " #   Column                 Non-Null Count  Dtype  \n",
      "---  ------                 --------------  -----  \n",
      " 0   messages_included      2 non-null      int64  \n",
      " 1   mb_per_month_included  2 non-null      int64  \n",
      " 2   minutes_included       2 non-null      int64  \n",
      " 3   usd_monthly_pay        2 non-null      int64  \n",
      " 4   usd_per_gb             2 non-null      int64  \n",
      " 5   usd_per_message        2 non-null      float64\n",
      " 6   usd_per_minute         2 non-null      float64\n",
      " 7   plan_name              2 non-null      object \n",
      "dtypes: float64(2), int64(5), object(1)\n",
      "memory usage: 256.0+ bytes\n"
     ]
    },
    {
     "data": {
      "text/html": [
       "<div>\n",
       "<style scoped>\n",
       "    .dataframe tbody tr th:only-of-type {\n",
       "        vertical-align: middle;\n",
       "    }\n",
       "\n",
       "    .dataframe tbody tr th {\n",
       "        vertical-align: top;\n",
       "    }\n",
       "\n",
       "    .dataframe thead th {\n",
       "        text-align: right;\n",
       "    }\n",
       "</style>\n",
       "<table border=\"1\" class=\"dataframe\">\n",
       "  <thead>\n",
       "    <tr style=\"text-align: right;\">\n",
       "      <th></th>\n",
       "      <th>messages_included</th>\n",
       "      <th>mb_per_month_included</th>\n",
       "      <th>minutes_included</th>\n",
       "      <th>usd_monthly_pay</th>\n",
       "      <th>usd_per_gb</th>\n",
       "      <th>usd_per_message</th>\n",
       "      <th>usd_per_minute</th>\n",
       "      <th>plan_name</th>\n",
       "    </tr>\n",
       "  </thead>\n",
       "  <tbody>\n",
       "    <tr>\n",
       "      <th>0</th>\n",
       "      <td>50</td>\n",
       "      <td>15360</td>\n",
       "      <td>500</td>\n",
       "      <td>20</td>\n",
       "      <td>10</td>\n",
       "      <td>0.03</td>\n",
       "      <td>0.03</td>\n",
       "      <td>surf</td>\n",
       "    </tr>\n",
       "    <tr>\n",
       "      <th>1</th>\n",
       "      <td>1000</td>\n",
       "      <td>30720</td>\n",
       "      <td>3000</td>\n",
       "      <td>70</td>\n",
       "      <td>7</td>\n",
       "      <td>0.01</td>\n",
       "      <td>0.01</td>\n",
       "      <td>ultimate</td>\n",
       "    </tr>\n",
       "  </tbody>\n",
       "</table>\n",
       "</div>"
      ],
      "text/plain": [
       "   messages_included  mb_per_month_included  minutes_included  \\\n",
       "0                 50                  15360               500   \n",
       "1               1000                  30720              3000   \n",
       "\n",
       "   usd_monthly_pay  usd_per_gb  usd_per_message  usd_per_minute plan_name  \n",
       "0               20          10             0.03            0.03      surf  \n",
       "1               70           7             0.01            0.01  ultimate  "
      ]
     },
     "metadata": {},
     "output_type": "display_data"
    }
   ],
   "source": [
    "# Checking data on DataFrame \"Plans\"\n",
    "\n",
    "df_plans.info()\n",
    "\n",
    "display(df_plans)"
   ]
  },
  {
   "cell_type": "markdown",
   "metadata": {
    "id": "P8hzr-lquj8f"
   },
   "source": [
    "Conclusion: No issues were found with this dataframe—no duplicates, missing values, or data type problems."
   ]
  },
  {
   "cell_type": "markdown",
   "metadata": {
    "id": "KXtaxmKsuj8f"
   },
   "source": [
    "## Fix and adjust the data and dataframe"
   ]
  },
  {
   "cell_type": "code",
   "execution_count": 4,
   "metadata": {
    "id": "Hen8bhG1uj8g",
    "scrolled": true
   },
   "outputs": [
    {
     "name": "stdout",
     "output_type": "stream",
     "text": [
      "  plan_name  usd_monthly_pay  messages_included  gb_per_month_included  \\\n",
      "0      surf               20                 50                   15.0   \n",
      "1  ultimate               70               1000                   30.0   \n",
      "\n",
      "   minutes_included  usd_per_message  usd_per_gb  usd_per_minute  \n",
      "0               500             0.03          10            0.03  \n",
      "1              3000             0.01           7            0.01  \n"
     ]
    }
   ],
   "source": [
    "# Changing column order\n",
    "df_plans = df_plans[[\"plan_name\",\"usd_monthly_pay\",\"messages_included\",\"mb_per_month_included\",\"minutes_included\",\"usd_per_message\",\"usd_per_gb\",\"usd_per_minute\"]]\n",
    "\n",
    "# Converting mb to gb to align with cost out of plan\n",
    "df_plans[\"mb_per_month_included\"] = df_plans[\"mb_per_month_included\"] / 1024\n",
    "\n",
    "# Renaming column from mb para gb\n",
    "df_plans.columns = [\"plan_name\",\"usd_monthly_pay\",\"messages_included\",\"gb_per_month_included\",\"minutes_included\",\"usd_per_message\",\"usd_per_gb\",\"usd_per_minute\"]\n",
    "print(df_plans.head())"
   ]
  },
  {
   "cell_type": "markdown",
   "metadata": {
    "id": "YJg2O9qjuj8g"
   },
   "source": [
    "## Users"
   ]
  },
  {
   "cell_type": "code",
   "execution_count": 5,
   "metadata": {
    "id": "7JzxwD2juj8g"
   },
   "outputs": [
    {
     "name": "stdout",
     "output_type": "stream",
     "text": [
      "<class 'pandas.core.frame.DataFrame'>\n",
      "RangeIndex: 500 entries, 0 to 499\n",
      "Data columns (total 8 columns):\n",
      " #   Column      Non-Null Count  Dtype \n",
      "---  ------      --------------  ----- \n",
      " 0   user_id     500 non-null    int64 \n",
      " 1   first_name  500 non-null    object\n",
      " 2   last_name   500 non-null    object\n",
      " 3   age         500 non-null    int64 \n",
      " 4   city        500 non-null    object\n",
      " 5   reg_date    500 non-null    object\n",
      " 6   plan        500 non-null    object\n",
      " 7   churn_date  34 non-null     object\n",
      "dtypes: int64(2), object(6)\n",
      "memory usage: 31.4+ KB\n"
     ]
    }
   ],
   "source": [
    "# Checking data on DataFrame \"Users\"\n",
    "df_users.info()"
   ]
  },
  {
   "cell_type": "code",
   "execution_count": 6,
   "metadata": {
    "id": "5KZ8XmD8uj8g"
   },
   "outputs": [
    {
     "data": {
      "text/html": [
       "<div>\n",
       "<style scoped>\n",
       "    .dataframe tbody tr th:only-of-type {\n",
       "        vertical-align: middle;\n",
       "    }\n",
       "\n",
       "    .dataframe tbody tr th {\n",
       "        vertical-align: top;\n",
       "    }\n",
       "\n",
       "    .dataframe thead th {\n",
       "        text-align: right;\n",
       "    }\n",
       "</style>\n",
       "<table border=\"1\" class=\"dataframe\">\n",
       "  <thead>\n",
       "    <tr style=\"text-align: right;\">\n",
       "      <th></th>\n",
       "      <th>user_id</th>\n",
       "      <th>first_name</th>\n",
       "      <th>last_name</th>\n",
       "      <th>age</th>\n",
       "      <th>city</th>\n",
       "      <th>reg_date</th>\n",
       "      <th>plan</th>\n",
       "      <th>churn_date</th>\n",
       "    </tr>\n",
       "  </thead>\n",
       "  <tbody>\n",
       "    <tr>\n",
       "      <th>366</th>\n",
       "      <td>1366</td>\n",
       "      <td>Rod</td>\n",
       "      <td>Huff</td>\n",
       "      <td>62</td>\n",
       "      <td>Cincinnati, OH-KY-IN MSA</td>\n",
       "      <td>2018-07-30</td>\n",
       "      <td>surf</td>\n",
       "      <td>NaN</td>\n",
       "    </tr>\n",
       "    <tr>\n",
       "      <th>207</th>\n",
       "      <td>1207</td>\n",
       "      <td>Samuel</td>\n",
       "      <td>Porter</td>\n",
       "      <td>63</td>\n",
       "      <td>Omaha-Council Bluffs, NE-IA MSA</td>\n",
       "      <td>2018-12-22</td>\n",
       "      <td>surf</td>\n",
       "      <td>NaN</td>\n",
       "    </tr>\n",
       "    <tr>\n",
       "      <th>451</th>\n",
       "      <td>1451</td>\n",
       "      <td>Lenard</td>\n",
       "      <td>Harding</td>\n",
       "      <td>53</td>\n",
       "      <td>Charlotte-Concord-Gastonia, NC-SC MSA</td>\n",
       "      <td>2018-02-15</td>\n",
       "      <td>ultimate</td>\n",
       "      <td>2018-12-10</td>\n",
       "    </tr>\n",
       "    <tr>\n",
       "      <th>201</th>\n",
       "      <td>1201</td>\n",
       "      <td>Jeanelle</td>\n",
       "      <td>Estrada</td>\n",
       "      <td>61</td>\n",
       "      <td>Bridgeport-Stamford-Norwalk, CT MSA</td>\n",
       "      <td>2018-06-04</td>\n",
       "      <td>surf</td>\n",
       "      <td>NaN</td>\n",
       "    </tr>\n",
       "    <tr>\n",
       "      <th>369</th>\n",
       "      <td>1369</td>\n",
       "      <td>Bernard</td>\n",
       "      <td>Mckee</td>\n",
       "      <td>69</td>\n",
       "      <td>Milwaukee-Waukesha, WI MSA</td>\n",
       "      <td>2018-10-06</td>\n",
       "      <td>surf</td>\n",
       "      <td>NaN</td>\n",
       "    </tr>\n",
       "    <tr>\n",
       "      <th>289</th>\n",
       "      <td>1289</td>\n",
       "      <td>Steve</td>\n",
       "      <td>Blair</td>\n",
       "      <td>47</td>\n",
       "      <td>Detroit-Warren-Dearborn, MI MSA</td>\n",
       "      <td>2018-11-12</td>\n",
       "      <td>ultimate</td>\n",
       "      <td>NaN</td>\n",
       "    </tr>\n",
       "    <tr>\n",
       "      <th>31</th>\n",
       "      <td>1031</td>\n",
       "      <td>Lane</td>\n",
       "      <td>Martin</td>\n",
       "      <td>52</td>\n",
       "      <td>New York-Newark-Jersey City, NY-NJ-PA MSA</td>\n",
       "      <td>2018-07-15</td>\n",
       "      <td>ultimate</td>\n",
       "      <td>NaN</td>\n",
       "    </tr>\n",
       "    <tr>\n",
       "      <th>402</th>\n",
       "      <td>1402</td>\n",
       "      <td>Jesus</td>\n",
       "      <td>Berry</td>\n",
       "      <td>25</td>\n",
       "      <td>New York-Newark-Jersey City, NY-NJ-PA MSA</td>\n",
       "      <td>2018-06-11</td>\n",
       "      <td>surf</td>\n",
       "      <td>2018-12-26</td>\n",
       "    </tr>\n",
       "    <tr>\n",
       "      <th>176</th>\n",
       "      <td>1176</td>\n",
       "      <td>Terrance</td>\n",
       "      <td>Shaffer</td>\n",
       "      <td>75</td>\n",
       "      <td>New York-Newark-Jersey City, NY-NJ-PA MSA</td>\n",
       "      <td>2018-10-03</td>\n",
       "      <td>surf</td>\n",
       "      <td>NaN</td>\n",
       "    </tr>\n",
       "    <tr>\n",
       "      <th>472</th>\n",
       "      <td>1472</td>\n",
       "      <td>Maximo</td>\n",
       "      <td>Mendoza</td>\n",
       "      <td>51</td>\n",
       "      <td>San Francisco-Oakland-Berkeley, CA MSA</td>\n",
       "      <td>2018-04-10</td>\n",
       "      <td>surf</td>\n",
       "      <td>NaN</td>\n",
       "    </tr>\n",
       "  </tbody>\n",
       "</table>\n",
       "</div>"
      ],
      "text/plain": [
       "     user_id first_name last_name  age  \\\n",
       "366     1366        Rod      Huff   62   \n",
       "207     1207     Samuel    Porter   63   \n",
       "451     1451     Lenard   Harding   53   \n",
       "201     1201   Jeanelle   Estrada   61   \n",
       "369     1369    Bernard     Mckee   69   \n",
       "289     1289      Steve     Blair   47   \n",
       "31      1031       Lane    Martin   52   \n",
       "402     1402      Jesus     Berry   25   \n",
       "176     1176   Terrance   Shaffer   75   \n",
       "472     1472     Maximo   Mendoza   51   \n",
       "\n",
       "                                          city    reg_date      plan  \\\n",
       "366                   Cincinnati, OH-KY-IN MSA  2018-07-30      surf   \n",
       "207            Omaha-Council Bluffs, NE-IA MSA  2018-12-22      surf   \n",
       "451      Charlotte-Concord-Gastonia, NC-SC MSA  2018-02-15  ultimate   \n",
       "201        Bridgeport-Stamford-Norwalk, CT MSA  2018-06-04      surf   \n",
       "369                 Milwaukee-Waukesha, WI MSA  2018-10-06      surf   \n",
       "289            Detroit-Warren-Dearborn, MI MSA  2018-11-12  ultimate   \n",
       "31   New York-Newark-Jersey City, NY-NJ-PA MSA  2018-07-15  ultimate   \n",
       "402  New York-Newark-Jersey City, NY-NJ-PA MSA  2018-06-11      surf   \n",
       "176  New York-Newark-Jersey City, NY-NJ-PA MSA  2018-10-03      surf   \n",
       "472     San Francisco-Oakland-Berkeley, CA MSA  2018-04-10      surf   \n",
       "\n",
       "     churn_date  \n",
       "366         NaN  \n",
       "207         NaN  \n",
       "451  2018-12-10  \n",
       "201         NaN  \n",
       "369         NaN  \n",
       "289         NaN  \n",
       "31          NaN  \n",
       "402  2018-12-26  \n",
       "176         NaN  \n",
       "472         NaN  "
      ]
     },
     "execution_count": 6,
     "metadata": {},
     "output_type": "execute_result"
    }
   ],
   "source": [
    "# Printing a sample of user data\n",
    "\n",
    "df_users.sample(10)"
   ]
  },
  {
   "cell_type": "markdown",
   "metadata": {
    "id": "XGCgkfLvuj8h"
   },
   "source": [
    "Conclusion: The column churn_date has missing values (NaN), which indicate that churn did not occur. The values in the reg_date column were recognized as object when they should be of type date."
   ]
  },
  {
   "cell_type": "markdown",
   "metadata": {
    "id": "os4Gubp_uj8j"
   },
   "source": [
    "[Corrija problemas óbvios com os dados conforme as observações iniciais.]"
   ]
  },
  {
   "cell_type": "code",
   "execution_count": 7,
   "metadata": {
    "id": "Oa1XFooouj8j"
   },
   "outputs": [],
   "source": [
    "#changing NaN for \"not churned\"\n",
    "df_users[\"churn_date\"] = df_users[\"churn_date\"].fillna(\"not churned\")"
   ]
  },
  {
   "cell_type": "code",
   "execution_count": 8,
   "metadata": {
    "id": "4vuUjT2juj8j"
   },
   "outputs": [
    {
     "name": "stdout",
     "output_type": "stream",
     "text": [
      "<class 'pandas.core.frame.DataFrame'>\n",
      "RangeIndex: 500 entries, 0 to 499\n",
      "Data columns (total 8 columns):\n",
      " #   Column      Non-Null Count  Dtype         \n",
      "---  ------      --------------  -----         \n",
      " 0   user_id     500 non-null    int64         \n",
      " 1   first_name  500 non-null    object        \n",
      " 2   last_name   500 non-null    object        \n",
      " 3   age         500 non-null    int64         \n",
      " 4   city        500 non-null    object        \n",
      " 5   reg_date    500 non-null    datetime64[ns]\n",
      " 6   plan        500 non-null    object        \n",
      " 7   churn_date  500 non-null    object        \n",
      "dtypes: datetime64[ns](1), int64(2), object(5)\n",
      "memory usage: 31.4+ KB\n"
     ]
    }
   ],
   "source": [
    "#changing reg_date to type 'datetime64'\n",
    "df_users[\"reg_date\"] = pd.to_datetime(df_users[\"reg_date\"],format=\"%Y-%m-%d\")\n",
    "df_users.info()"
   ]
  },
  {
   "cell_type": "markdown",
   "metadata": {
    "id": "f4uSIMuuuj8j"
   },
   "source": [
    "## Calls"
   ]
  },
  {
   "cell_type": "code",
   "execution_count": 9,
   "metadata": {
    "id": "hkY01fJnuj8j"
   },
   "outputs": [
    {
     "name": "stdout",
     "output_type": "stream",
     "text": [
      "<class 'pandas.core.frame.DataFrame'>\n",
      "RangeIndex: 137735 entries, 0 to 137734\n",
      "Data columns (total 4 columns):\n",
      " #   Column     Non-Null Count   Dtype  \n",
      "---  ------     --------------   -----  \n",
      " 0   id         137735 non-null  object \n",
      " 1   user_id    137735 non-null  int64  \n",
      " 2   call_date  137735 non-null  object \n",
      " 3   duration   137735 non-null  float64\n",
      "dtypes: float64(1), int64(1), object(2)\n",
      "memory usage: 4.2+ MB\n"
     ]
    }
   ],
   "source": [
    "# Checking data on DataFrame \"Calls\"\n",
    "df_calls.info()"
   ]
  },
  {
   "cell_type": "code",
   "execution_count": 10,
   "metadata": {
    "id": "wdBwJG5Yuj8k"
   },
   "outputs": [
    {
     "data": {
      "text/html": [
       "<div>\n",
       "<style scoped>\n",
       "    .dataframe tbody tr th:only-of-type {\n",
       "        vertical-align: middle;\n",
       "    }\n",
       "\n",
       "    .dataframe tbody tr th {\n",
       "        vertical-align: top;\n",
       "    }\n",
       "\n",
       "    .dataframe thead th {\n",
       "        text-align: right;\n",
       "    }\n",
       "</style>\n",
       "<table border=\"1\" class=\"dataframe\">\n",
       "  <thead>\n",
       "    <tr style=\"text-align: right;\">\n",
       "      <th></th>\n",
       "      <th>id</th>\n",
       "      <th>user_id</th>\n",
       "      <th>call_date</th>\n",
       "      <th>duration</th>\n",
       "    </tr>\n",
       "  </thead>\n",
       "  <tbody>\n",
       "    <tr>\n",
       "      <th>74597</th>\n",
       "      <td>1263_581</td>\n",
       "      <td>1263</td>\n",
       "      <td>2018-11-26</td>\n",
       "      <td>9.63</td>\n",
       "    </tr>\n",
       "    <tr>\n",
       "      <th>82059</th>\n",
       "      <td>1295_584</td>\n",
       "      <td>1295</td>\n",
       "      <td>2018-08-25</td>\n",
       "      <td>0.44</td>\n",
       "    </tr>\n",
       "    <tr>\n",
       "      <th>46496</th>\n",
       "      <td>1168_462</td>\n",
       "      <td>1168</td>\n",
       "      <td>2018-12-15</td>\n",
       "      <td>0.04</td>\n",
       "    </tr>\n",
       "    <tr>\n",
       "      <th>115376</th>\n",
       "      <td>1404_170</td>\n",
       "      <td>1404</td>\n",
       "      <td>2018-10-15</td>\n",
       "      <td>1.78</td>\n",
       "    </tr>\n",
       "    <tr>\n",
       "      <th>128481</th>\n",
       "      <td>1461_95</td>\n",
       "      <td>1461</td>\n",
       "      <td>2018-09-18</td>\n",
       "      <td>27.03</td>\n",
       "    </tr>\n",
       "    <tr>\n",
       "      <th>58824</th>\n",
       "      <td>1212_373</td>\n",
       "      <td>1212</td>\n",
       "      <td>2018-12-25</td>\n",
       "      <td>2.85</td>\n",
       "    </tr>\n",
       "    <tr>\n",
       "      <th>73096</th>\n",
       "      <td>1259_114</td>\n",
       "      <td>1259</td>\n",
       "      <td>2018-10-15</td>\n",
       "      <td>3.32</td>\n",
       "    </tr>\n",
       "    <tr>\n",
       "      <th>117526</th>\n",
       "      <td>1411_126</td>\n",
       "      <td>1411</td>\n",
       "      <td>2018-10-16</td>\n",
       "      <td>2.11</td>\n",
       "    </tr>\n",
       "    <tr>\n",
       "      <th>78273</th>\n",
       "      <td>1280_305</td>\n",
       "      <td>1280</td>\n",
       "      <td>2018-07-27</td>\n",
       "      <td>4.12</td>\n",
       "    </tr>\n",
       "    <tr>\n",
       "      <th>24403</th>\n",
       "      <td>1092_297</td>\n",
       "      <td>1092</td>\n",
       "      <td>2018-12-20</td>\n",
       "      <td>21.04</td>\n",
       "    </tr>\n",
       "  </tbody>\n",
       "</table>\n",
       "</div>"
      ],
      "text/plain": [
       "              id  user_id   call_date  duration\n",
       "74597   1263_581     1263  2018-11-26      9.63\n",
       "82059   1295_584     1295  2018-08-25      0.44\n",
       "46496   1168_462     1168  2018-12-15      0.04\n",
       "115376  1404_170     1404  2018-10-15      1.78\n",
       "128481   1461_95     1461  2018-09-18     27.03\n",
       "58824   1212_373     1212  2018-12-25      2.85\n",
       "73096   1259_114     1259  2018-10-15      3.32\n",
       "117526  1411_126     1411  2018-10-16      2.11\n",
       "78273   1280_305     1280  2018-07-27      4.12\n",
       "24403   1092_297     1092  2018-12-20     21.04"
      ]
     },
     "execution_count": 10,
     "metadata": {},
     "output_type": "execute_result"
    }
   ],
   "source": [
    "# Printing a sample of call data\n",
    "df_calls.sample(10)"
   ]
  },
  {
   "cell_type": "markdown",
   "metadata": {
    "id": "Y8An85-Tuj8k"
   },
   "source": [
    "Conclusion:\n",
    "- No missing data was identified.\n",
    "\n",
    "- The values in the call_date column were recognized as object when they should be of type date.\n",
    "\n",
    "- We need to round the call durations up."
   ]
  },
  {
   "cell_type": "code",
   "execution_count": 11,
   "metadata": {
    "id": "lBjdw0Bnuj8l"
   },
   "outputs": [
    {
     "data": {
      "text/html": [
       "<div>\n",
       "<style scoped>\n",
       "    .dataframe tbody tr th:only-of-type {\n",
       "        vertical-align: middle;\n",
       "    }\n",
       "\n",
       "    .dataframe tbody tr th {\n",
       "        vertical-align: top;\n",
       "    }\n",
       "\n",
       "    .dataframe thead th {\n",
       "        text-align: right;\n",
       "    }\n",
       "</style>\n",
       "<table border=\"1\" class=\"dataframe\">\n",
       "  <thead>\n",
       "    <tr style=\"text-align: right;\">\n",
       "      <th></th>\n",
       "      <th>id</th>\n",
       "      <th>user_id</th>\n",
       "      <th>call_date</th>\n",
       "      <th>duration</th>\n",
       "      <th>duration_rounded</th>\n",
       "    </tr>\n",
       "  </thead>\n",
       "  <tbody>\n",
       "    <tr>\n",
       "      <th>21754</th>\n",
       "      <td>1079_467</td>\n",
       "      <td>1079</td>\n",
       "      <td>2018-10-04</td>\n",
       "      <td>9.81</td>\n",
       "      <td>10.0</td>\n",
       "    </tr>\n",
       "    <tr>\n",
       "      <th>76494</th>\n",
       "      <td>1272_39</td>\n",
       "      <td>1272</td>\n",
       "      <td>2018-12-20</td>\n",
       "      <td>0.00</td>\n",
       "      <td>0.0</td>\n",
       "    </tr>\n",
       "    <tr>\n",
       "      <th>1724</th>\n",
       "      <td>1009_146</td>\n",
       "      <td>1009</td>\n",
       "      <td>2018-09-03</td>\n",
       "      <td>0.81</td>\n",
       "      <td>1.0</td>\n",
       "    </tr>\n",
       "    <tr>\n",
       "      <th>517</th>\n",
       "      <td>1003_127</td>\n",
       "      <td>1003</td>\n",
       "      <td>2018-12-26</td>\n",
       "      <td>0.00</td>\n",
       "      <td>0.0</td>\n",
       "    </tr>\n",
       "    <tr>\n",
       "      <th>29737</th>\n",
       "      <td>1112_386</td>\n",
       "      <td>1112</td>\n",
       "      <td>2018-12-13</td>\n",
       "      <td>4.71</td>\n",
       "      <td>5.0</td>\n",
       "    </tr>\n",
       "    <tr>\n",
       "      <th>61372</th>\n",
       "      <td>1222_19</td>\n",
       "      <td>1222</td>\n",
       "      <td>2018-10-20</td>\n",
       "      <td>8.10</td>\n",
       "      <td>9.0</td>\n",
       "    </tr>\n",
       "    <tr>\n",
       "      <th>29580</th>\n",
       "      <td>1112_112</td>\n",
       "      <td>1112</td>\n",
       "      <td>2018-11-24</td>\n",
       "      <td>0.00</td>\n",
       "      <td>0.0</td>\n",
       "    </tr>\n",
       "    <tr>\n",
       "      <th>65365</th>\n",
       "      <td>1236_670</td>\n",
       "      <td>1236</td>\n",
       "      <td>2018-07-23</td>\n",
       "      <td>5.32</td>\n",
       "      <td>6.0</td>\n",
       "    </tr>\n",
       "    <tr>\n",
       "      <th>107466</th>\n",
       "      <td>1381_203</td>\n",
       "      <td>1381</td>\n",
       "      <td>2018-10-24</td>\n",
       "      <td>7.16</td>\n",
       "      <td>8.0</td>\n",
       "    </tr>\n",
       "    <tr>\n",
       "      <th>32316</th>\n",
       "      <td>1122_154</td>\n",
       "      <td>1122</td>\n",
       "      <td>2018-09-29</td>\n",
       "      <td>14.53</td>\n",
       "      <td>15.0</td>\n",
       "    </tr>\n",
       "  </tbody>\n",
       "</table>\n",
       "</div>"
      ],
      "text/plain": [
       "              id  user_id   call_date  duration  duration_rounded\n",
       "21754   1079_467     1079  2018-10-04      9.81              10.0\n",
       "76494    1272_39     1272  2018-12-20      0.00               0.0\n",
       "1724    1009_146     1009  2018-09-03      0.81               1.0\n",
       "517     1003_127     1003  2018-12-26      0.00               0.0\n",
       "29737   1112_386     1112  2018-12-13      4.71               5.0\n",
       "61372    1222_19     1222  2018-10-20      8.10               9.0\n",
       "29580   1112_112     1112  2018-11-24      0.00               0.0\n",
       "65365   1236_670     1236  2018-07-23      5.32               6.0\n",
       "107466  1381_203     1381  2018-10-24      7.16               8.0\n",
       "32316   1122_154     1122  2018-09-29     14.53              15.0"
      ]
     },
     "execution_count": 11,
     "metadata": {},
     "output_type": "execute_result"
    }
   ],
   "source": [
    "# Rounding call duration up\n",
    "df_calls[\"duration_rounded\"] = np.ceil(df_calls[\"duration\"])\n",
    "df_calls.sample(10)"
   ]
  },
  {
   "cell_type": "code",
   "execution_count": 12,
   "metadata": {
    "id": "nwOKTgfluj8l"
   },
   "outputs": [
    {
     "name": "stdout",
     "output_type": "stream",
     "text": [
      "<class 'pandas.core.frame.DataFrame'>\n",
      "RangeIndex: 137735 entries, 0 to 137734\n",
      "Data columns (total 5 columns):\n",
      " #   Column            Non-Null Count   Dtype         \n",
      "---  ------            --------------   -----         \n",
      " 0   id                137735 non-null  object        \n",
      " 1   user_id           137735 non-null  int64         \n",
      " 2   call_date         137735 non-null  datetime64[ns]\n",
      " 3   duration          137735 non-null  float64       \n",
      " 4   duration_rounded  137735 non-null  float64       \n",
      "dtypes: datetime64[ns](1), float64(2), int64(1), object(1)\n",
      "memory usage: 5.3+ MB\n"
     ]
    }
   ],
   "source": [
    "#changing call_date to type 'datetime64'\n",
    "df_calls[\"call_date\"] = pd.to_datetime(df_calls[\"call_date\"],format=\"%Y-%m-%d\")\n",
    "df_calls.info()"
   ]
  },
  {
   "cell_type": "markdown",
   "metadata": {
    "id": "qLz4FkyRuj8l"
   },
   "source": [
    "## Messages"
   ]
  },
  {
   "cell_type": "code",
   "execution_count": 13,
   "metadata": {
    "id": "nFA9DFkCuj8l"
   },
   "outputs": [
    {
     "name": "stdout",
     "output_type": "stream",
     "text": [
      "<class 'pandas.core.frame.DataFrame'>\n",
      "RangeIndex: 76051 entries, 0 to 76050\n",
      "Data columns (total 3 columns):\n",
      " #   Column        Non-Null Count  Dtype \n",
      "---  ------        --------------  ----- \n",
      " 0   id            76051 non-null  object\n",
      " 1   user_id       76051 non-null  int64 \n",
      " 2   message_date  76051 non-null  object\n",
      "dtypes: int64(1), object(2)\n",
      "memory usage: 1.7+ MB\n"
     ]
    }
   ],
   "source": [
    "# Checking data on DataFrame \"Calls\"\n",
    "df_messages.info()"
   ]
  },
  {
   "cell_type": "code",
   "execution_count": 14,
   "metadata": {
    "id": "ysEFBZWxuj8m"
   },
   "outputs": [
    {
     "data": {
      "text/html": [
       "<div>\n",
       "<style scoped>\n",
       "    .dataframe tbody tr th:only-of-type {\n",
       "        vertical-align: middle;\n",
       "    }\n",
       "\n",
       "    .dataframe tbody tr th {\n",
       "        vertical-align: top;\n",
       "    }\n",
       "\n",
       "    .dataframe thead th {\n",
       "        text-align: right;\n",
       "    }\n",
       "</style>\n",
       "<table border=\"1\" class=\"dataframe\">\n",
       "  <thead>\n",
       "    <tr style=\"text-align: right;\">\n",
       "      <th></th>\n",
       "      <th>id</th>\n",
       "      <th>user_id</th>\n",
       "      <th>message_date</th>\n",
       "    </tr>\n",
       "  </thead>\n",
       "  <tbody>\n",
       "    <tr>\n",
       "      <th>6651</th>\n",
       "      <td>1056_161</td>\n",
       "      <td>1056</td>\n",
       "      <td>2018-08-15</td>\n",
       "    </tr>\n",
       "    <tr>\n",
       "      <th>23720</th>\n",
       "      <td>1144_190</td>\n",
       "      <td>1144</td>\n",
       "      <td>2018-08-29</td>\n",
       "    </tr>\n",
       "    <tr>\n",
       "      <th>39808</th>\n",
       "      <td>1258_173</td>\n",
       "      <td>1258</td>\n",
       "      <td>2018-11-28</td>\n",
       "    </tr>\n",
       "    <tr>\n",
       "      <th>45217</th>\n",
       "      <td>1303_136</td>\n",
       "      <td>1303</td>\n",
       "      <td>2018-12-16</td>\n",
       "    </tr>\n",
       "    <tr>\n",
       "      <th>21577</th>\n",
       "      <td>1132_989</td>\n",
       "      <td>1132</td>\n",
       "      <td>2018-07-17</td>\n",
       "    </tr>\n",
       "    <tr>\n",
       "      <th>61356</th>\n",
       "      <td>1384_467</td>\n",
       "      <td>1384</td>\n",
       "      <td>2018-11-29</td>\n",
       "    </tr>\n",
       "    <tr>\n",
       "      <th>10798</th>\n",
       "      <td>1077_69</td>\n",
       "      <td>1077</td>\n",
       "      <td>2018-06-22</td>\n",
       "    </tr>\n",
       "    <tr>\n",
       "      <th>28866</th>\n",
       "      <td>1176_7</td>\n",
       "      <td>1176</td>\n",
       "      <td>2018-11-28</td>\n",
       "    </tr>\n",
       "    <tr>\n",
       "      <th>57766</th>\n",
       "      <td>1364_30</td>\n",
       "      <td>1364</td>\n",
       "      <td>2018-11-07</td>\n",
       "    </tr>\n",
       "    <tr>\n",
       "      <th>55822</th>\n",
       "      <td>1352_172</td>\n",
       "      <td>1352</td>\n",
       "      <td>2018-12-06</td>\n",
       "    </tr>\n",
       "  </tbody>\n",
       "</table>\n",
       "</div>"
      ],
      "text/plain": [
       "             id  user_id message_date\n",
       "6651   1056_161     1056   2018-08-15\n",
       "23720  1144_190     1144   2018-08-29\n",
       "39808  1258_173     1258   2018-11-28\n",
       "45217  1303_136     1303   2018-12-16\n",
       "21577  1132_989     1132   2018-07-17\n",
       "61356  1384_467     1384   2018-11-29\n",
       "10798   1077_69     1077   2018-06-22\n",
       "28866    1176_7     1176   2018-11-28\n",
       "57766   1364_30     1364   2018-11-07\n",
       "55822  1352_172     1352   2018-12-06"
      ]
     },
     "execution_count": 14,
     "metadata": {},
     "output_type": "execute_result"
    }
   ],
   "source": [
    "# Printing a sample of message data\n",
    "df_messages.sample(10)"
   ]
  },
  {
   "cell_type": "markdown",
   "metadata": {
    "id": "GUtt1TqCuj8m"
   },
   "source": [
    "Conclusion:\n",
    "- No missing data was identified.\n",
    "\n",
    "- The values in the message_date column were recognized as object when they should be of type date.. "
   ]
  },
  {
   "cell_type": "code",
   "execution_count": 15,
   "metadata": {
    "id": "SkuCXcLJuj8n"
   },
   "outputs": [],
   "source": [
    "#changing message_date to type 'datetime64'\n",
    "df_messages[\"message_date\"] = pd.to_datetime(df_messages[\"message_date\"],format=\"%Y-%m-%d\")"
   ]
  },
  {
   "cell_type": "markdown",
   "metadata": {
    "id": "ZRFaOWzGuj8n"
   },
   "source": [
    "## Internet"
   ]
  },
  {
   "cell_type": "code",
   "execution_count": 16,
   "metadata": {
    "id": "ob3-qv4nuj8n"
   },
   "outputs": [
    {
     "name": "stdout",
     "output_type": "stream",
     "text": [
      "<class 'pandas.core.frame.DataFrame'>\n",
      "RangeIndex: 104825 entries, 0 to 104824\n",
      "Data columns (total 4 columns):\n",
      " #   Column        Non-Null Count   Dtype  \n",
      "---  ------        --------------   -----  \n",
      " 0   id            104825 non-null  object \n",
      " 1   user_id       104825 non-null  int64  \n",
      " 2   session_date  104825 non-null  object \n",
      " 3   mb_used       104825 non-null  float64\n",
      "dtypes: float64(1), int64(1), object(2)\n",
      "memory usage: 3.2+ MB\n"
     ]
    }
   ],
   "source": [
    "# Checking data on DataFrame \"Calls\"\n",
    "df_internet.info()"
   ]
  },
  {
   "cell_type": "code",
   "execution_count": 17,
   "metadata": {
    "id": "iIHK4fZsuj8n"
   },
   "outputs": [
    {
     "data": {
      "text/html": [
       "<div>\n",
       "<style scoped>\n",
       "    .dataframe tbody tr th:only-of-type {\n",
       "        vertical-align: middle;\n",
       "    }\n",
       "\n",
       "    .dataframe tbody tr th {\n",
       "        vertical-align: top;\n",
       "    }\n",
       "\n",
       "    .dataframe thead th {\n",
       "        text-align: right;\n",
       "    }\n",
       "</style>\n",
       "<table border=\"1\" class=\"dataframe\">\n",
       "  <thead>\n",
       "    <tr style=\"text-align: right;\">\n",
       "      <th></th>\n",
       "      <th>id</th>\n",
       "      <th>user_id</th>\n",
       "      <th>session_date</th>\n",
       "      <th>mb_used</th>\n",
       "    </tr>\n",
       "  </thead>\n",
       "  <tbody>\n",
       "    <tr>\n",
       "      <th>16665</th>\n",
       "      <td>1076_11</td>\n",
       "      <td>1076</td>\n",
       "      <td>2018-09-19</td>\n",
       "      <td>366.86</td>\n",
       "    </tr>\n",
       "    <tr>\n",
       "      <th>9194</th>\n",
       "      <td>1047_32</td>\n",
       "      <td>1047</td>\n",
       "      <td>2018-12-03</td>\n",
       "      <td>717.95</td>\n",
       "    </tr>\n",
       "    <tr>\n",
       "      <th>101203</th>\n",
       "      <td>1482_47</td>\n",
       "      <td>1482</td>\n",
       "      <td>2018-11-21</td>\n",
       "      <td>375.35</td>\n",
       "    </tr>\n",
       "    <tr>\n",
       "      <th>74959</th>\n",
       "      <td>1353_122</td>\n",
       "      <td>1353</td>\n",
       "      <td>2018-09-23</td>\n",
       "      <td>590.45</td>\n",
       "    </tr>\n",
       "    <tr>\n",
       "      <th>16769</th>\n",
       "      <td>1076_245</td>\n",
       "      <td>1076</td>\n",
       "      <td>2018-10-10</td>\n",
       "      <td>150.11</td>\n",
       "    </tr>\n",
       "    <tr>\n",
       "      <th>71084</th>\n",
       "      <td>1332_57</td>\n",
       "      <td>1332</td>\n",
       "      <td>2018-12-16</td>\n",
       "      <td>376.52</td>\n",
       "    </tr>\n",
       "    <tr>\n",
       "      <th>37613</th>\n",
       "      <td>1170_563</td>\n",
       "      <td>1170</td>\n",
       "      <td>2018-11-21</td>\n",
       "      <td>499.91</td>\n",
       "    </tr>\n",
       "    <tr>\n",
       "      <th>1525</th>\n",
       "      <td>1009_60</td>\n",
       "      <td>1009</td>\n",
       "      <td>2018-08-01</td>\n",
       "      <td>428.02</td>\n",
       "    </tr>\n",
       "    <tr>\n",
       "      <th>29488</th>\n",
       "      <td>1134_340</td>\n",
       "      <td>1134</td>\n",
       "      <td>2018-10-01</td>\n",
       "      <td>501.12</td>\n",
       "    </tr>\n",
       "    <tr>\n",
       "      <th>87295</th>\n",
       "      <td>1404_162</td>\n",
       "      <td>1404</td>\n",
       "      <td>2018-09-25</td>\n",
       "      <td>374.20</td>\n",
       "    </tr>\n",
       "  </tbody>\n",
       "</table>\n",
       "</div>"
      ],
      "text/plain": [
       "              id  user_id session_date  mb_used\n",
       "16665    1076_11     1076   2018-09-19   366.86\n",
       "9194     1047_32     1047   2018-12-03   717.95\n",
       "101203   1482_47     1482   2018-11-21   375.35\n",
       "74959   1353_122     1353   2018-09-23   590.45\n",
       "16769   1076_245     1076   2018-10-10   150.11\n",
       "71084    1332_57     1332   2018-12-16   376.52\n",
       "37613   1170_563     1170   2018-11-21   499.91\n",
       "1525     1009_60     1009   2018-08-01   428.02\n",
       "29488   1134_340     1134   2018-10-01   501.12\n",
       "87295   1404_162     1404   2018-09-25   374.20"
      ]
     },
     "execution_count": 17,
     "metadata": {},
     "output_type": "execute_result"
    }
   ],
   "source": [
    "# Printing a sample of internet data\n",
    "df_internet.sample(10)"
   ]
  },
  {
   "cell_type": "markdown",
   "metadata": {
    "id": "6wpo7ugquj8o"
   },
   "source": [
    "Conclusion:\n",
    "- No missing data was identified.\n",
    "\n",
    "- The values in the session_date column were recognized as object when they should be of type date.\n",
    "\n",
    "- We need to round up the MB consumed, but only for the monthly billing, not for each session."
   ]
  },
  {
   "cell_type": "code",
   "execution_count": 18,
   "metadata": {
    "id": "f1PoZ3Ukuj8p"
   },
   "outputs": [],
   "source": [
    "#changing session_date to type 'datetime64'\n",
    "df_internet[\"session_date\"] = pd.to_datetime(df_internet[\"session_date\"],format=\"%Y-%m-%d\")"
   ]
  },
  {
   "cell_type": "markdown",
   "metadata": {
    "id": "bnOX4ARJuj8p"
   },
   "source": [
    "## Checking plan conditions"
   ]
  },
  {
   "cell_type": "code",
   "execution_count": 19,
   "metadata": {
    "id": "vMXVndWEuj8p"
   },
   "outputs": [
    {
     "data": {
      "text/html": [
       "<div>\n",
       "<style scoped>\n",
       "    .dataframe tbody tr th:only-of-type {\n",
       "        vertical-align: middle;\n",
       "    }\n",
       "\n",
       "    .dataframe tbody tr th {\n",
       "        vertical-align: top;\n",
       "    }\n",
       "\n",
       "    .dataframe thead th {\n",
       "        text-align: right;\n",
       "    }\n",
       "</style>\n",
       "<table border=\"1\" class=\"dataframe\">\n",
       "  <thead>\n",
       "    <tr style=\"text-align: right;\">\n",
       "      <th></th>\n",
       "      <th>plan_name</th>\n",
       "      <th>usd_monthly_pay</th>\n",
       "      <th>messages_included</th>\n",
       "      <th>gb_per_month_included</th>\n",
       "      <th>minutes_included</th>\n",
       "      <th>usd_per_message</th>\n",
       "      <th>usd_per_gb</th>\n",
       "      <th>usd_per_minute</th>\n",
       "    </tr>\n",
       "  </thead>\n",
       "  <tbody>\n",
       "    <tr>\n",
       "      <th>0</th>\n",
       "      <td>surf</td>\n",
       "      <td>20</td>\n",
       "      <td>50</td>\n",
       "      <td>15.0</td>\n",
       "      <td>500</td>\n",
       "      <td>0.03</td>\n",
       "      <td>10</td>\n",
       "      <td>0.03</td>\n",
       "    </tr>\n",
       "    <tr>\n",
       "      <th>1</th>\n",
       "      <td>ultimate</td>\n",
       "      <td>70</td>\n",
       "      <td>1000</td>\n",
       "      <td>30.0</td>\n",
       "      <td>3000</td>\n",
       "      <td>0.01</td>\n",
       "      <td>7</td>\n",
       "      <td>0.01</td>\n",
       "    </tr>\n",
       "  </tbody>\n",
       "</table>\n",
       "</div>"
      ],
      "text/plain": [
       "  plan_name  usd_monthly_pay  messages_included  gb_per_month_included  \\\n",
       "0      surf               20                 50                   15.0   \n",
       "1  ultimate               70               1000                   30.0   \n",
       "\n",
       "   minutes_included  usd_per_message  usd_per_gb  usd_per_minute  \n",
       "0               500             0.03          10            0.03  \n",
       "1              3000             0.01           7            0.01  "
      ]
     },
     "metadata": {},
     "output_type": "display_data"
    }
   ],
   "source": [
    "# Printing plan conditions and making sure the are understood\n",
    "display(df_plans)"
   ]
  },
  {
   "cell_type": "markdown",
   "metadata": {
    "id": "1v1EshDmuj8q"
   },
   "source": [
    "## Agregating data per user"
   ]
  },
  {
   "cell_type": "code",
   "execution_count": 20,
   "metadata": {
    "id": "4hmb2pSPuj8q"
   },
   "outputs": [
    {
     "name": "stdout",
     "output_type": "stream",
     "text": [
      "user_id  month\n",
      "1000     12       16\n",
      "1001     8        27\n",
      "         9        49\n",
      "         10       65\n",
      "         11       64\n",
      "                  ..\n",
      "1498     12       39\n",
      "1499     9        41\n",
      "         10       53\n",
      "         11       45\n",
      "         12       65\n",
      "Name: id, Length: 2258, dtype: int64\n"
     ]
    }
   ],
   "source": [
    "# Calculating number of calls made per user per month\n",
    "df_calls[\"month_call_date\"] = df_calls[\"call_date\"].dt.month\n",
    "calls_per_usermonth = df_calls.groupby([\"user_id\",\"month_call_date\"])[\"id\"].count()\n",
    "calls_per_usermonth = calls_per_usermonth.rename_axis([\"user_id\",\"month\"])\n",
    "print(calls_per_usermonth)"
   ]
  },
  {
   "cell_type": "code",
   "execution_count": 21,
   "metadata": {
    "id": "yHgBWCJJuj8q"
   },
   "outputs": [
    {
     "name": "stdout",
     "output_type": "stream",
     "text": [
      "user_id  month\n",
      "1000     12       124.0\n",
      "1001     8        182.0\n",
      "         9        315.0\n",
      "         10       393.0\n",
      "         11       426.0\n",
      "                  ...  \n",
      "1498     12       339.0\n",
      "1499     9        346.0\n",
      "         10       385.0\n",
      "         11       308.0\n",
      "         12       496.0\n",
      "Name: duration_rounded, Length: 2258, dtype: float64\n"
     ]
    }
   ],
   "source": [
    "# Calculating # of minutes spent per user per month\n",
    "minutes_per_usermonth = df_calls.groupby([\"user_id\",\"month_call_date\"])[\"duration_rounded\"].sum()\n",
    "minutes_per_usermonth = minutes_per_usermonth.rename_axis([\"user_id\",\"month\"])\n",
    "print(minutes_per_usermonth)"
   ]
  },
  {
   "cell_type": "code",
   "execution_count": 22,
   "metadata": {},
   "outputs": [
    {
     "name": "stdout",
     "output_type": "stream",
     "text": [
      "user_id  month\n",
      "1000     12       11\n",
      "1001     8        30\n",
      "         9        44\n",
      "         10       53\n",
      "         11       36\n",
      "                  ..\n",
      "1496     9        21\n",
      "         10       18\n",
      "         11       13\n",
      "         12       11\n",
      "1497     12       50\n",
      "Name: id, Length: 1806, dtype: int64\n"
     ]
    }
   ],
   "source": [
    "# Calculating # of messages sent per user per month\n",
    "df_messages[\"month_msg_date\"] = df_messages[\"message_date\"].dt.month\n",
    "messages_per_usermonth = df_messages.groupby([\"user_id\",\"month_msg_date\"])[\"id\"].count()\n",
    "messages_per_usermonth = messages_per_usermonth.rename_axis([\"user_id\",\"month\"])\n",
    "print(messages_per_usermonth)"
   ]
  },
  {
   "cell_type": "code",
   "execution_count": 23,
   "metadata": {
    "id": "WsCEZJ_xuj8q"
   },
   "outputs": [
    {
     "name": "stdout",
     "output_type": "stream",
     "text": [
      "user_id  month\n",
      "1000     12        1901.47\n",
      "1001     8         6919.15\n",
      "         9        13314.82\n",
      "         10       22330.49\n",
      "         11       18504.30\n",
      "                    ...   \n",
      "1498     12       23137.69\n",
      "1499     9        12984.76\n",
      "         10       19492.43\n",
      "         11       16813.83\n",
      "         12       22059.21\n",
      "Name: mb_used, Length: 2277, dtype: float64\n"
     ]
    }
   ],
   "source": [
    "# Calculating internet traffic per user per month\n",
    "df_internet[\"month_session_date\"] = df_internet[\"session_date\"].dt.month\n",
    "internet_per_usermonth = df_internet.groupby([\"user_id\",\"month_session_date\"])[\"mb_used\"].sum()\n",
    "internet_per_usermonth = internet_per_usermonth.rename_axis([\"user_id\",\"month\"])\n",
    "print(internet_per_usermonth)"
   ]
  },
  {
   "cell_type": "markdown",
   "metadata": {
    "id": "6nBsD4hduj8q"
   },
   "source": [
    "[Coloque os dados agregados em um DataFrame para que cada registro nele represente o que cada usuário consumiu em um determinado mês.]"
   ]
  },
  {
   "cell_type": "code",
   "execution_count": 24,
   "metadata": {
    "id": "BYDTkxOauj8r",
    "scrolled": true
   },
   "outputs": [
    {
     "name": "stdout",
     "output_type": "stream",
     "text": [
      "               calls_made  call_duration  msg_sent  mb_consumed\n",
      "user_id month                                                  \n",
      "1000    12           16.0          124.0      11.0      1901.47\n",
      "1001    8            27.0          182.0      30.0      6919.15\n",
      "        9            49.0          315.0      44.0     13314.82\n",
      "        10           65.0          393.0      53.0     22330.49\n",
      "        11           64.0          426.0      36.0     18504.30\n",
      "        12           56.0          412.0      44.0     19369.18\n",
      "1002    10           11.0           59.0      15.0      6552.01\n",
      "        11           55.0          386.0      32.0     19345.08\n",
      "        12           47.0          384.0      41.0     14396.24\n",
      "1003    12          149.0         1104.0      50.0     27044.14\n",
      "               calls_made  call_duration  msg_sent  mb_consumed\n",
      "user_id month                                                  \n",
      "1498    7            43.0          321.0       NaN     24834.37\n",
      "        8            44.0          266.0       NaN     20261.89\n",
      "        9            45.0          363.0       NaN     22827.28\n",
      "        10           46.0          298.0       NaN     20580.76\n",
      "        11           41.0          223.0       NaN     19168.55\n",
      "        12           39.0          339.0       NaN     23137.69\n",
      "1499    9            41.0          346.0       NaN     12984.76\n",
      "        10           53.0          385.0       NaN     19492.43\n",
      "        11           45.0          308.0       NaN     16813.83\n",
      "        12           65.0          496.0       NaN     22059.21\n"
     ]
    },
    {
     "data": {
      "text/html": [
       "<div>\n",
       "<style scoped>\n",
       "    .dataframe tbody tr th:only-of-type {\n",
       "        vertical-align: middle;\n",
       "    }\n",
       "\n",
       "    .dataframe tbody tr th {\n",
       "        vertical-align: top;\n",
       "    }\n",
       "\n",
       "    .dataframe thead th {\n",
       "        text-align: right;\n",
       "    }\n",
       "</style>\n",
       "<table border=\"1\" class=\"dataframe\">\n",
       "  <thead>\n",
       "    <tr style=\"text-align: right;\">\n",
       "      <th></th>\n",
       "      <th>user_id</th>\n",
       "      <th>month</th>\n",
       "      <th>calls_made</th>\n",
       "      <th>call_duration</th>\n",
       "      <th>msg_sent</th>\n",
       "      <th>mb_consumed</th>\n",
       "    </tr>\n",
       "  </thead>\n",
       "  <tbody>\n",
       "    <tr>\n",
       "      <th>1106</th>\n",
       "      <td>1235</td>\n",
       "      <td>11</td>\n",
       "      <td>51.0</td>\n",
       "      <td>336.0</td>\n",
       "      <td>33.0</td>\n",
       "      <td>13245.86</td>\n",
       "    </tr>\n",
       "    <tr>\n",
       "      <th>46</th>\n",
       "      <td>1011</td>\n",
       "      <td>6</td>\n",
       "      <td>19.0</td>\n",
       "      <td>118.0</td>\n",
       "      <td>21.0</td>\n",
       "      <td>6685.11</td>\n",
       "    </tr>\n",
       "    <tr>\n",
       "      <th>1017</th>\n",
       "      <td>1213</td>\n",
       "      <td>11</td>\n",
       "      <td>10.0</td>\n",
       "      <td>42.0</td>\n",
       "      <td>11.0</td>\n",
       "      <td>1938.76</td>\n",
       "    </tr>\n",
       "    <tr>\n",
       "      <th>133</th>\n",
       "      <td>1036</td>\n",
       "      <td>12</td>\n",
       "      <td>50.0</td>\n",
       "      <td>368.0</td>\n",
       "      <td>45.0</td>\n",
       "      <td>8787.79</td>\n",
       "    </tr>\n",
       "    <tr>\n",
       "      <th>1506</th>\n",
       "      <td>1328</td>\n",
       "      <td>6</td>\n",
       "      <td>122.0</td>\n",
       "      <td>860.0</td>\n",
       "      <td>132.0</td>\n",
       "      <td>23829.72</td>\n",
       "    </tr>\n",
       "    <tr>\n",
       "      <th>2209</th>\n",
       "      <td>1481</td>\n",
       "      <td>12</td>\n",
       "      <td>6.0</td>\n",
       "      <td>36.0</td>\n",
       "      <td>3.0</td>\n",
       "      <td>1265.78</td>\n",
       "    </tr>\n",
       "    <tr>\n",
       "      <th>2200</th>\n",
       "      <td>1477</td>\n",
       "      <td>12</td>\n",
       "      <td>49.0</td>\n",
       "      <td>289.0</td>\n",
       "      <td>2.0</td>\n",
       "      <td>27961.49</td>\n",
       "    </tr>\n",
       "    <tr>\n",
       "      <th>652</th>\n",
       "      <td>1138</td>\n",
       "      <td>5</td>\n",
       "      <td>61.0</td>\n",
       "      <td>381.0</td>\n",
       "      <td>16.0</td>\n",
       "      <td>23059.99</td>\n",
       "    </tr>\n",
       "    <tr>\n",
       "      <th>1827</th>\n",
       "      <td>1393</td>\n",
       "      <td>10</td>\n",
       "      <td>9.0</td>\n",
       "      <td>71.0</td>\n",
       "      <td>4.0</td>\n",
       "      <td>NaN</td>\n",
       "    </tr>\n",
       "    <tr>\n",
       "      <th>905</th>\n",
       "      <td>1188</td>\n",
       "      <td>10</td>\n",
       "      <td>48.0</td>\n",
       "      <td>344.0</td>\n",
       "      <td>43.0</td>\n",
       "      <td>20608.20</td>\n",
       "    </tr>\n",
       "  </tbody>\n",
       "</table>\n",
       "</div>"
      ],
      "text/plain": [
       "      user_id  month  calls_made  call_duration  msg_sent  mb_consumed\n",
       "1106     1235     11        51.0          336.0      33.0     13245.86\n",
       "46       1011      6        19.0          118.0      21.0      6685.11\n",
       "1017     1213     11        10.0           42.0      11.0      1938.76\n",
       "133      1036     12        50.0          368.0      45.0      8787.79\n",
       "1506     1328      6       122.0          860.0     132.0     23829.72\n",
       "2209     1481     12         6.0           36.0       3.0      1265.78\n",
       "2200     1477     12        49.0          289.0       2.0     27961.49\n",
       "652      1138      5        61.0          381.0      16.0     23059.99\n",
       "1827     1393     10         9.0           71.0       4.0          NaN\n",
       "905      1188     10        48.0          344.0      43.0     20608.20"
      ]
     },
     "execution_count": 24,
     "metadata": {},
     "output_type": "execute_result"
    }
   ],
   "source": [
    "# Consolidating calls, minutes, messages and internet based on user_id e month\n",
    "usermonth = pd.concat([calls_per_usermonth,minutes_per_usermonth,messages_per_usermonth,internet_per_usermonth],axis=\"columns\")\n",
    "usermonth.columns = [\"calls_made\",\"call_duration\",\"msg_sent\",\"mb_consumed\"]\n",
    "print(usermonth.head(10))\n",
    "print(usermonth.tail(10))\n",
    "usermonth.reset_index(inplace=True)\n",
    "usermonth.sample(10)"
   ]
  },
  {
   "cell_type": "code",
   "execution_count": 25,
   "metadata": {
    "id": "SW-sgLaHuj8r"
   },
   "outputs": [
    {
     "data": {
      "text/html": [
       "<div>\n",
       "<style scoped>\n",
       "    .dataframe tbody tr th:only-of-type {\n",
       "        vertical-align: middle;\n",
       "    }\n",
       "\n",
       "    .dataframe tbody tr th {\n",
       "        vertical-align: top;\n",
       "    }\n",
       "\n",
       "    .dataframe thead th {\n",
       "        text-align: right;\n",
       "    }\n",
       "</style>\n",
       "<table border=\"1\" class=\"dataframe\">\n",
       "  <thead>\n",
       "    <tr style=\"text-align: right;\">\n",
       "      <th></th>\n",
       "      <th>user_id</th>\n",
       "      <th>month</th>\n",
       "      <th>calls_made</th>\n",
       "      <th>call_duration</th>\n",
       "      <th>msg_sent</th>\n",
       "      <th>mb_consumed</th>\n",
       "      <th>plan</th>\n",
       "    </tr>\n",
       "  </thead>\n",
       "  <tbody>\n",
       "    <tr>\n",
       "      <th>0</th>\n",
       "      <td>1000</td>\n",
       "      <td>12</td>\n",
       "      <td>16.0</td>\n",
       "      <td>124.0</td>\n",
       "      <td>11.0</td>\n",
       "      <td>1901.47</td>\n",
       "      <td>ultimate</td>\n",
       "    </tr>\n",
       "    <tr>\n",
       "      <th>1</th>\n",
       "      <td>1001</td>\n",
       "      <td>8</td>\n",
       "      <td>27.0</td>\n",
       "      <td>182.0</td>\n",
       "      <td>30.0</td>\n",
       "      <td>6919.15</td>\n",
       "      <td>surf</td>\n",
       "    </tr>\n",
       "    <tr>\n",
       "      <th>2</th>\n",
       "      <td>1001</td>\n",
       "      <td>9</td>\n",
       "      <td>49.0</td>\n",
       "      <td>315.0</td>\n",
       "      <td>44.0</td>\n",
       "      <td>13314.82</td>\n",
       "      <td>surf</td>\n",
       "    </tr>\n",
       "    <tr>\n",
       "      <th>3</th>\n",
       "      <td>1001</td>\n",
       "      <td>10</td>\n",
       "      <td>65.0</td>\n",
       "      <td>393.0</td>\n",
       "      <td>53.0</td>\n",
       "      <td>22330.49</td>\n",
       "      <td>surf</td>\n",
       "    </tr>\n",
       "    <tr>\n",
       "      <th>4</th>\n",
       "      <td>1001</td>\n",
       "      <td>11</td>\n",
       "      <td>64.0</td>\n",
       "      <td>426.0</td>\n",
       "      <td>36.0</td>\n",
       "      <td>18504.30</td>\n",
       "      <td>surf</td>\n",
       "    </tr>\n",
       "    <tr>\n",
       "      <th>...</th>\n",
       "      <td>...</td>\n",
       "      <td>...</td>\n",
       "      <td>...</td>\n",
       "      <td>...</td>\n",
       "      <td>...</td>\n",
       "      <td>...</td>\n",
       "      <td>...</td>\n",
       "    </tr>\n",
       "    <tr>\n",
       "      <th>2288</th>\n",
       "      <td>1498</td>\n",
       "      <td>12</td>\n",
       "      <td>39.0</td>\n",
       "      <td>339.0</td>\n",
       "      <td>NaN</td>\n",
       "      <td>23137.69</td>\n",
       "      <td>surf</td>\n",
       "    </tr>\n",
       "    <tr>\n",
       "      <th>2289</th>\n",
       "      <td>1499</td>\n",
       "      <td>9</td>\n",
       "      <td>41.0</td>\n",
       "      <td>346.0</td>\n",
       "      <td>NaN</td>\n",
       "      <td>12984.76</td>\n",
       "      <td>surf</td>\n",
       "    </tr>\n",
       "    <tr>\n",
       "      <th>2290</th>\n",
       "      <td>1499</td>\n",
       "      <td>10</td>\n",
       "      <td>53.0</td>\n",
       "      <td>385.0</td>\n",
       "      <td>NaN</td>\n",
       "      <td>19492.43</td>\n",
       "      <td>surf</td>\n",
       "    </tr>\n",
       "    <tr>\n",
       "      <th>2291</th>\n",
       "      <td>1499</td>\n",
       "      <td>11</td>\n",
       "      <td>45.0</td>\n",
       "      <td>308.0</td>\n",
       "      <td>NaN</td>\n",
       "      <td>16813.83</td>\n",
       "      <td>surf</td>\n",
       "    </tr>\n",
       "    <tr>\n",
       "      <th>2292</th>\n",
       "      <td>1499</td>\n",
       "      <td>12</td>\n",
       "      <td>65.0</td>\n",
       "      <td>496.0</td>\n",
       "      <td>NaN</td>\n",
       "      <td>22059.21</td>\n",
       "      <td>surf</td>\n",
       "    </tr>\n",
       "  </tbody>\n",
       "</table>\n",
       "<p>2293 rows × 7 columns</p>\n",
       "</div>"
      ],
      "text/plain": [
       "      user_id  month  calls_made  call_duration  msg_sent  mb_consumed  \\\n",
       "0        1000     12        16.0          124.0      11.0      1901.47   \n",
       "1        1001      8        27.0          182.0      30.0      6919.15   \n",
       "2        1001      9        49.0          315.0      44.0     13314.82   \n",
       "3        1001     10        65.0          393.0      53.0     22330.49   \n",
       "4        1001     11        64.0          426.0      36.0     18504.30   \n",
       "...       ...    ...         ...            ...       ...          ...   \n",
       "2288     1498     12        39.0          339.0       NaN     23137.69   \n",
       "2289     1499      9        41.0          346.0       NaN     12984.76   \n",
       "2290     1499     10        53.0          385.0       NaN     19492.43   \n",
       "2291     1499     11        45.0          308.0       NaN     16813.83   \n",
       "2292     1499     12        65.0          496.0       NaN     22059.21   \n",
       "\n",
       "          plan  \n",
       "0     ultimate  \n",
       "1         surf  \n",
       "2         surf  \n",
       "3         surf  \n",
       "4         surf  \n",
       "...        ...  \n",
       "2288      surf  \n",
       "2289      surf  \n",
       "2290      surf  \n",
       "2291      surf  \n",
       "2292      surf  \n",
       "\n",
       "[2293 rows x 7 columns]"
      ]
     },
     "metadata": {},
     "output_type": "display_data"
    }
   ],
   "source": [
    "# Adding plan information\n",
    "usermonth_planinfo = usermonth.merge(df_users, on=\"user_id\")[[\"user_id\",\"month\",\"calls_made\",\"call_duration\",\"msg_sent\",\"mb_consumed\",\"plan\"]]\n",
    "display(usermonth_planinfo)"
   ]
  },
  {
   "cell_type": "code",
   "execution_count": 26,
   "metadata": {
    "id": "JiPHXbQAuj8r"
   },
   "outputs": [],
   "source": [
    "# Calculating monthly revenue per user\n",
    "# Including plan details\n",
    "usermonth_planinfo_details = usermonth_planinfo.merge(df_plans,left_on=\"plan\", right_on=\"plan_name\")[[\"user_id\",\"month\",\"calls_made\",\"call_duration\",\"msg_sent\",\"mb_consumed\", \"plan\",\"usd_monthly_pay\",\"messages_included\",\"gb_per_month_included\",\"minutes_included\",\"usd_per_message\",\"usd_per_gb\",\"usd_per_minute\"]]\n",
    "\n",
    "# Converting mb to gb and rounding up\n",
    "usermonth_planinfo_details[\"mb_consumed\"] = np.ceil(usermonth_planinfo_details[\"mb_consumed\"] / 1024)\n",
    "\n",
    "# renaming column from mb_consumed to gb_consumed\n",
    "usermonth_planinfo_details.columns = [\"user_id\",\"month\",\"calls_made\",\"call_duration\",\"msg_sent\",\"gb_consumed\", \"plan\",\"usd_monthly_pay\",\"messages_included\",\"gb_per_month_included\",\"minutes_included\",\"usd_per_message\",\"usd_per_gb\",\"usd_per_minute\"]\n"
   ]
  },
  {
   "cell_type": "code",
   "execution_count": 27,
   "metadata": {},
   "outputs": [
    {
     "data": {
      "text/html": [
       "<div>\n",
       "<style scoped>\n",
       "    .dataframe tbody tr th:only-of-type {\n",
       "        vertical-align: middle;\n",
       "    }\n",
       "\n",
       "    .dataframe tbody tr th {\n",
       "        vertical-align: top;\n",
       "    }\n",
       "\n",
       "    .dataframe thead th {\n",
       "        text-align: right;\n",
       "    }\n",
       "</style>\n",
       "<table border=\"1\" class=\"dataframe\">\n",
       "  <thead>\n",
       "    <tr style=\"text-align: right;\">\n",
       "      <th></th>\n",
       "      <th>user_id</th>\n",
       "      <th>month</th>\n",
       "      <th>calls_made</th>\n",
       "      <th>call_duration</th>\n",
       "      <th>msg_sent</th>\n",
       "      <th>gb_consumed</th>\n",
       "      <th>plan</th>\n",
       "      <th>usd_monthly_pay</th>\n",
       "      <th>messages_included</th>\n",
       "      <th>gb_per_month_included</th>\n",
       "      <th>minutes_included</th>\n",
       "      <th>usd_per_message</th>\n",
       "      <th>usd_per_gb</th>\n",
       "      <th>usd_per_minute</th>\n",
       "      <th>minutes_excess</th>\n",
       "      <th>minutes_excess_qty</th>\n",
       "      <th>msg_excess</th>\n",
       "      <th>msg_excess_qty</th>\n",
       "      <th>internet_excess</th>\n",
       "      <th>internet_excess_qty</th>\n",
       "    </tr>\n",
       "  </thead>\n",
       "  <tbody>\n",
       "    <tr>\n",
       "      <th>927</th>\n",
       "      <td>1071</td>\n",
       "      <td>12</td>\n",
       "      <td>67.0</td>\n",
       "      <td>467.0</td>\n",
       "      <td>NaN</td>\n",
       "      <td>21.0</td>\n",
       "      <td>surf</td>\n",
       "      <td>20</td>\n",
       "      <td>50</td>\n",
       "      <td>15.0</td>\n",
       "      <td>500</td>\n",
       "      <td>0.03</td>\n",
       "      <td>10</td>\n",
       "      <td>0.03</td>\n",
       "      <td>False</td>\n",
       "      <td>0.0</td>\n",
       "      <td>False</td>\n",
       "      <td>0.0</td>\n",
       "      <td>True</td>\n",
       "      <td>6.0</td>\n",
       "    </tr>\n",
       "    <tr>\n",
       "      <th>1812</th>\n",
       "      <td>1334</td>\n",
       "      <td>9</td>\n",
       "      <td>132.0</td>\n",
       "      <td>836.0</td>\n",
       "      <td>15.0</td>\n",
       "      <td>15.0</td>\n",
       "      <td>surf</td>\n",
       "      <td>20</td>\n",
       "      <td>50</td>\n",
       "      <td>15.0</td>\n",
       "      <td>500</td>\n",
       "      <td>0.03</td>\n",
       "      <td>10</td>\n",
       "      <td>0.03</td>\n",
       "      <td>True</td>\n",
       "      <td>336.0</td>\n",
       "      <td>False</td>\n",
       "      <td>0.0</td>\n",
       "      <td>False</td>\n",
       "      <td>0.0</td>\n",
       "    </tr>\n",
       "    <tr>\n",
       "      <th>83</th>\n",
       "      <td>1050</td>\n",
       "      <td>8</td>\n",
       "      <td>51.0</td>\n",
       "      <td>358.0</td>\n",
       "      <td>NaN</td>\n",
       "      <td>15.0</td>\n",
       "      <td>ultimate</td>\n",
       "      <td>70</td>\n",
       "      <td>1000</td>\n",
       "      <td>30.0</td>\n",
       "      <td>3000</td>\n",
       "      <td>0.01</td>\n",
       "      <td>7</td>\n",
       "      <td>0.01</td>\n",
       "      <td>False</td>\n",
       "      <td>0.0</td>\n",
       "      <td>False</td>\n",
       "      <td>0.0</td>\n",
       "      <td>False</td>\n",
       "      <td>0.0</td>\n",
       "    </tr>\n",
       "    <tr>\n",
       "      <th>1184</th>\n",
       "      <td>1141</td>\n",
       "      <td>7</td>\n",
       "      <td>112.0</td>\n",
       "      <td>786.0</td>\n",
       "      <td>13.0</td>\n",
       "      <td>15.0</td>\n",
       "      <td>surf</td>\n",
       "      <td>20</td>\n",
       "      <td>50</td>\n",
       "      <td>15.0</td>\n",
       "      <td>500</td>\n",
       "      <td>0.03</td>\n",
       "      <td>10</td>\n",
       "      <td>0.03</td>\n",
       "      <td>True</td>\n",
       "      <td>286.0</td>\n",
       "      <td>False</td>\n",
       "      <td>0.0</td>\n",
       "      <td>False</td>\n",
       "      <td>0.0</td>\n",
       "    </tr>\n",
       "    <tr>\n",
       "      <th>1445</th>\n",
       "      <td>1220</td>\n",
       "      <td>10</td>\n",
       "      <td>91.0</td>\n",
       "      <td>634.0</td>\n",
       "      <td>35.0</td>\n",
       "      <td>20.0</td>\n",
       "      <td>surf</td>\n",
       "      <td>20</td>\n",
       "      <td>50</td>\n",
       "      <td>15.0</td>\n",
       "      <td>500</td>\n",
       "      <td>0.03</td>\n",
       "      <td>10</td>\n",
       "      <td>0.03</td>\n",
       "      <td>True</td>\n",
       "      <td>134.0</td>\n",
       "      <td>False</td>\n",
       "      <td>0.0</td>\n",
       "      <td>True</td>\n",
       "      <td>5.0</td>\n",
       "    </tr>\n",
       "    <tr>\n",
       "      <th>1065</th>\n",
       "      <td>1106</td>\n",
       "      <td>12</td>\n",
       "      <td>67.0</td>\n",
       "      <td>569.0</td>\n",
       "      <td>NaN</td>\n",
       "      <td>22.0</td>\n",
       "      <td>surf</td>\n",
       "      <td>20</td>\n",
       "      <td>50</td>\n",
       "      <td>15.0</td>\n",
       "      <td>500</td>\n",
       "      <td>0.03</td>\n",
       "      <td>10</td>\n",
       "      <td>0.03</td>\n",
       "      <td>True</td>\n",
       "      <td>69.0</td>\n",
       "      <td>False</td>\n",
       "      <td>0.0</td>\n",
       "      <td>True</td>\n",
       "      <td>7.0</td>\n",
       "    </tr>\n",
       "    <tr>\n",
       "      <th>140</th>\n",
       "      <td>1085</td>\n",
       "      <td>8</td>\n",
       "      <td>4.0</td>\n",
       "      <td>12.0</td>\n",
       "      <td>NaN</td>\n",
       "      <td>2.0</td>\n",
       "      <td>ultimate</td>\n",
       "      <td>70</td>\n",
       "      <td>1000</td>\n",
       "      <td>30.0</td>\n",
       "      <td>3000</td>\n",
       "      <td>0.01</td>\n",
       "      <td>7</td>\n",
       "      <td>0.01</td>\n",
       "      <td>False</td>\n",
       "      <td>0.0</td>\n",
       "      <td>False</td>\n",
       "      <td>0.0</td>\n",
       "      <td>False</td>\n",
       "      <td>0.0</td>\n",
       "    </tr>\n",
       "    <tr>\n",
       "      <th>348</th>\n",
       "      <td>1236</td>\n",
       "      <td>5</td>\n",
       "      <td>58.0</td>\n",
       "      <td>369.0</td>\n",
       "      <td>35.0</td>\n",
       "      <td>15.0</td>\n",
       "      <td>ultimate</td>\n",
       "      <td>70</td>\n",
       "      <td>1000</td>\n",
       "      <td>30.0</td>\n",
       "      <td>3000</td>\n",
       "      <td>0.01</td>\n",
       "      <td>7</td>\n",
       "      <td>0.01</td>\n",
       "      <td>False</td>\n",
       "      <td>0.0</td>\n",
       "      <td>False</td>\n",
       "      <td>0.0</td>\n",
       "      <td>False</td>\n",
       "      <td>0.0</td>\n",
       "    </tr>\n",
       "    <tr>\n",
       "      <th>2106</th>\n",
       "      <td>1419</td>\n",
       "      <td>12</td>\n",
       "      <td>117.0</td>\n",
       "      <td>835.0</td>\n",
       "      <td>144.0</td>\n",
       "      <td>19.0</td>\n",
       "      <td>surf</td>\n",
       "      <td>20</td>\n",
       "      <td>50</td>\n",
       "      <td>15.0</td>\n",
       "      <td>500</td>\n",
       "      <td>0.03</td>\n",
       "      <td>10</td>\n",
       "      <td>0.03</td>\n",
       "      <td>True</td>\n",
       "      <td>335.0</td>\n",
       "      <td>True</td>\n",
       "      <td>94.0</td>\n",
       "      <td>True</td>\n",
       "      <td>4.0</td>\n",
       "    </tr>\n",
       "    <tr>\n",
       "      <th>229</th>\n",
       "      <td>1155</td>\n",
       "      <td>10</td>\n",
       "      <td>31.0</td>\n",
       "      <td>271.0</td>\n",
       "      <td>23.0</td>\n",
       "      <td>26.0</td>\n",
       "      <td>ultimate</td>\n",
       "      <td>70</td>\n",
       "      <td>1000</td>\n",
       "      <td>30.0</td>\n",
       "      <td>3000</td>\n",
       "      <td>0.01</td>\n",
       "      <td>7</td>\n",
       "      <td>0.01</td>\n",
       "      <td>False</td>\n",
       "      <td>0.0</td>\n",
       "      <td>False</td>\n",
       "      <td>0.0</td>\n",
       "      <td>False</td>\n",
       "      <td>0.0</td>\n",
       "    </tr>\n",
       "    <tr>\n",
       "      <th>808</th>\n",
       "      <td>1042</td>\n",
       "      <td>3</td>\n",
       "      <td>39.0</td>\n",
       "      <td>214.0</td>\n",
       "      <td>NaN</td>\n",
       "      <td>8.0</td>\n",
       "      <td>surf</td>\n",
       "      <td>20</td>\n",
       "      <td>50</td>\n",
       "      <td>15.0</td>\n",
       "      <td>500</td>\n",
       "      <td>0.03</td>\n",
       "      <td>10</td>\n",
       "      <td>0.03</td>\n",
       "      <td>False</td>\n",
       "      <td>0.0</td>\n",
       "      <td>False</td>\n",
       "      <td>0.0</td>\n",
       "      <td>False</td>\n",
       "      <td>0.0</td>\n",
       "    </tr>\n",
       "    <tr>\n",
       "      <th>433</th>\n",
       "      <td>1314</td>\n",
       "      <td>11</td>\n",
       "      <td>63.0</td>\n",
       "      <td>432.0</td>\n",
       "      <td>19.0</td>\n",
       "      <td>17.0</td>\n",
       "      <td>ultimate</td>\n",
       "      <td>70</td>\n",
       "      <td>1000</td>\n",
       "      <td>30.0</td>\n",
       "      <td>3000</td>\n",
       "      <td>0.01</td>\n",
       "      <td>7</td>\n",
       "      <td>0.01</td>\n",
       "      <td>False</td>\n",
       "      <td>0.0</td>\n",
       "      <td>False</td>\n",
       "      <td>0.0</td>\n",
       "      <td>False</td>\n",
       "      <td>0.0</td>\n",
       "    </tr>\n",
       "    <tr>\n",
       "      <th>1991</th>\n",
       "      <td>1385</td>\n",
       "      <td>8</td>\n",
       "      <td>54.0</td>\n",
       "      <td>298.0</td>\n",
       "      <td>36.0</td>\n",
       "      <td>15.0</td>\n",
       "      <td>surf</td>\n",
       "      <td>20</td>\n",
       "      <td>50</td>\n",
       "      <td>15.0</td>\n",
       "      <td>500</td>\n",
       "      <td>0.03</td>\n",
       "      <td>10</td>\n",
       "      <td>0.03</td>\n",
       "      <td>False</td>\n",
       "      <td>0.0</td>\n",
       "      <td>False</td>\n",
       "      <td>0.0</td>\n",
       "      <td>False</td>\n",
       "      <td>0.0</td>\n",
       "    </tr>\n",
       "    <tr>\n",
       "      <th>1364</th>\n",
       "      <td>1193</td>\n",
       "      <td>11</td>\n",
       "      <td>23.0</td>\n",
       "      <td>138.0</td>\n",
       "      <td>57.0</td>\n",
       "      <td>19.0</td>\n",
       "      <td>surf</td>\n",
       "      <td>20</td>\n",
       "      <td>50</td>\n",
       "      <td>15.0</td>\n",
       "      <td>500</td>\n",
       "      <td>0.03</td>\n",
       "      <td>10</td>\n",
       "      <td>0.03</td>\n",
       "      <td>False</td>\n",
       "      <td>0.0</td>\n",
       "      <td>True</td>\n",
       "      <td>7.0</td>\n",
       "      <td>True</td>\n",
       "      <td>4.0</td>\n",
       "    </tr>\n",
       "    <tr>\n",
       "      <th>1360</th>\n",
       "      <td>1193</td>\n",
       "      <td>7</td>\n",
       "      <td>29.0</td>\n",
       "      <td>179.0</td>\n",
       "      <td>51.0</td>\n",
       "      <td>14.0</td>\n",
       "      <td>surf</td>\n",
       "      <td>20</td>\n",
       "      <td>50</td>\n",
       "      <td>15.0</td>\n",
       "      <td>500</td>\n",
       "      <td>0.03</td>\n",
       "      <td>10</td>\n",
       "      <td>0.03</td>\n",
       "      <td>False</td>\n",
       "      <td>0.0</td>\n",
       "      <td>True</td>\n",
       "      <td>1.0</td>\n",
       "      <td>False</td>\n",
       "      <td>0.0</td>\n",
       "    </tr>\n",
       "  </tbody>\n",
       "</table>\n",
       "</div>"
      ],
      "text/plain": [
       "      user_id  month  calls_made  call_duration  msg_sent  gb_consumed  \\\n",
       "927      1071     12        67.0          467.0       NaN         21.0   \n",
       "1812     1334      9       132.0          836.0      15.0         15.0   \n",
       "83       1050      8        51.0          358.0       NaN         15.0   \n",
       "1184     1141      7       112.0          786.0      13.0         15.0   \n",
       "1445     1220     10        91.0          634.0      35.0         20.0   \n",
       "1065     1106     12        67.0          569.0       NaN         22.0   \n",
       "140      1085      8         4.0           12.0       NaN          2.0   \n",
       "348      1236      5        58.0          369.0      35.0         15.0   \n",
       "2106     1419     12       117.0          835.0     144.0         19.0   \n",
       "229      1155     10        31.0          271.0      23.0         26.0   \n",
       "808      1042      3        39.0          214.0       NaN          8.0   \n",
       "433      1314     11        63.0          432.0      19.0         17.0   \n",
       "1991     1385      8        54.0          298.0      36.0         15.0   \n",
       "1364     1193     11        23.0          138.0      57.0         19.0   \n",
       "1360     1193      7        29.0          179.0      51.0         14.0   \n",
       "\n",
       "          plan  usd_monthly_pay  messages_included  gb_per_month_included  \\\n",
       "927       surf               20                 50                   15.0   \n",
       "1812      surf               20                 50                   15.0   \n",
       "83    ultimate               70               1000                   30.0   \n",
       "1184      surf               20                 50                   15.0   \n",
       "1445      surf               20                 50                   15.0   \n",
       "1065      surf               20                 50                   15.0   \n",
       "140   ultimate               70               1000                   30.0   \n",
       "348   ultimate               70               1000                   30.0   \n",
       "2106      surf               20                 50                   15.0   \n",
       "229   ultimate               70               1000                   30.0   \n",
       "808       surf               20                 50                   15.0   \n",
       "433   ultimate               70               1000                   30.0   \n",
       "1991      surf               20                 50                   15.0   \n",
       "1364      surf               20                 50                   15.0   \n",
       "1360      surf               20                 50                   15.0   \n",
       "\n",
       "      minutes_included  usd_per_message  usd_per_gb  usd_per_minute  \\\n",
       "927                500             0.03          10            0.03   \n",
       "1812               500             0.03          10            0.03   \n",
       "83                3000             0.01           7            0.01   \n",
       "1184               500             0.03          10            0.03   \n",
       "1445               500             0.03          10            0.03   \n",
       "1065               500             0.03          10            0.03   \n",
       "140               3000             0.01           7            0.01   \n",
       "348               3000             0.01           7            0.01   \n",
       "2106               500             0.03          10            0.03   \n",
       "229               3000             0.01           7            0.01   \n",
       "808                500             0.03          10            0.03   \n",
       "433               3000             0.01           7            0.01   \n",
       "1991               500             0.03          10            0.03   \n",
       "1364               500             0.03          10            0.03   \n",
       "1360               500             0.03          10            0.03   \n",
       "\n",
       "      minutes_excess  minutes_excess_qty  msg_excess  msg_excess_qty  \\\n",
       "927            False                 0.0       False             0.0   \n",
       "1812            True               336.0       False             0.0   \n",
       "83             False                 0.0       False             0.0   \n",
       "1184            True               286.0       False             0.0   \n",
       "1445            True               134.0       False             0.0   \n",
       "1065            True                69.0       False             0.0   \n",
       "140            False                 0.0       False             0.0   \n",
       "348            False                 0.0       False             0.0   \n",
       "2106            True               335.0        True            94.0   \n",
       "229            False                 0.0       False             0.0   \n",
       "808            False                 0.0       False             0.0   \n",
       "433            False                 0.0       False             0.0   \n",
       "1991           False                 0.0       False             0.0   \n",
       "1364           False                 0.0        True             7.0   \n",
       "1360           False                 0.0        True             1.0   \n",
       "\n",
       "      internet_excess  internet_excess_qty  \n",
       "927              True                  6.0  \n",
       "1812            False                  0.0  \n",
       "83              False                  0.0  \n",
       "1184            False                  0.0  \n",
       "1445             True                  5.0  \n",
       "1065             True                  7.0  \n",
       "140             False                  0.0  \n",
       "348             False                  0.0  \n",
       "2106             True                  4.0  \n",
       "229             False                  0.0  \n",
       "808             False                  0.0  \n",
       "433             False                  0.0  \n",
       "1991            False                  0.0  \n",
       "1364             True                  4.0  \n",
       "1360            False                  0.0  "
      ]
     },
     "execution_count": 27,
     "metadata": {},
     "output_type": "execute_result"
    }
   ],
   "source": [
    "# Identifying excess minutes\n",
    "usermonth_planinfo_details[\"minutes_excess\"] = usermonth_planinfo_details[\"call_duration\"] > usermonth_planinfo_details[\"minutes_included\"]\n",
    "usermonth_planinfo_details[\"minutes_excess_qty\"] = np.where(usermonth_planinfo_details[\"minutes_excess\"],\n",
    "    usermonth_planinfo_details[\"call_duration\"] - usermonth_planinfo_details[\"minutes_included\"],\n",
    "    0\n",
    ")\n",
    "# Identifying excess messages\n",
    "usermonth_planinfo_details[\"msg_excess\"] = usermonth_planinfo_details[\"msg_sent\"] > usermonth_planinfo_details[\"messages_included\"]\n",
    "usermonth_planinfo_details[\"msg_excess_qty\"] = np.where(usermonth_planinfo_details[\"msg_excess\"],\n",
    "    usermonth_planinfo_details[\"msg_sent\"] - usermonth_planinfo_details[\"messages_included\"],\n",
    "    0\n",
    ")\n",
    "\n",
    "# Identifying excess internet traffic\n",
    "usermonth_planinfo_details[\"internet_excess\"] = usermonth_planinfo_details[\"gb_consumed\"] > usermonth_planinfo_details[\"gb_per_month_included\"]\n",
    "usermonth_planinfo_details[\"internet_excess_qty\"] = np.where(usermonth_planinfo_details[\"internet_excess\"],\n",
    "    usermonth_planinfo_details[\"gb_consumed\"] - usermonth_planinfo_details[\"gb_per_month_included\"],\n",
    "    0\n",
    ")\n",
    "\n",
    "usermonth_planinfo_details.sample(15)"
   ]
  },
  {
   "cell_type": "code",
   "execution_count": 28,
   "metadata": {},
   "outputs": [
    {
     "data": {
      "text/html": [
       "<div>\n",
       "<style scoped>\n",
       "    .dataframe tbody tr th:only-of-type {\n",
       "        vertical-align: middle;\n",
       "    }\n",
       "\n",
       "    .dataframe tbody tr th {\n",
       "        vertical-align: top;\n",
       "    }\n",
       "\n",
       "    .dataframe thead th {\n",
       "        text-align: right;\n",
       "    }\n",
       "</style>\n",
       "<table border=\"1\" class=\"dataframe\">\n",
       "  <thead>\n",
       "    <tr style=\"text-align: right;\">\n",
       "      <th></th>\n",
       "      <th>user_id</th>\n",
       "      <th>month</th>\n",
       "      <th>calls_made</th>\n",
       "      <th>call_duration</th>\n",
       "      <th>msg_sent</th>\n",
       "      <th>gb_consumed</th>\n",
       "      <th>plan</th>\n",
       "      <th>usd_monthly_pay</th>\n",
       "      <th>messages_included</th>\n",
       "      <th>gb_per_month_included</th>\n",
       "      <th>...</th>\n",
       "      <th>usd_per_message</th>\n",
       "      <th>usd_per_gb</th>\n",
       "      <th>usd_per_minute</th>\n",
       "      <th>minutes_excess</th>\n",
       "      <th>minutes_excess_qty</th>\n",
       "      <th>msg_excess</th>\n",
       "      <th>msg_excess_qty</th>\n",
       "      <th>internet_excess</th>\n",
       "      <th>internet_excess_qty</th>\n",
       "      <th>revenue</th>\n",
       "    </tr>\n",
       "  </thead>\n",
       "  <tbody>\n",
       "    <tr>\n",
       "      <th>24</th>\n",
       "      <td>1028</td>\n",
       "      <td>10</td>\n",
       "      <td>6.0</td>\n",
       "      <td>39.0</td>\n",
       "      <td>73.0</td>\n",
       "      <td>46.0</td>\n",
       "      <td>ultimate</td>\n",
       "      <td>70</td>\n",
       "      <td>1000</td>\n",
       "      <td>30.0</td>\n",
       "      <td>...</td>\n",
       "      <td>0.01</td>\n",
       "      <td>7</td>\n",
       "      <td>0.01</td>\n",
       "      <td>False</td>\n",
       "      <td>0.0</td>\n",
       "      <td>False</td>\n",
       "      <td>0.0</td>\n",
       "      <td>True</td>\n",
       "      <td>16.0</td>\n",
       "      <td>182.00</td>\n",
       "    </tr>\n",
       "    <tr>\n",
       "      <th>2093</th>\n",
       "      <td>1415</td>\n",
       "      <td>9</td>\n",
       "      <td>74.0</td>\n",
       "      <td>415.0</td>\n",
       "      <td>NaN</td>\n",
       "      <td>21.0</td>\n",
       "      <td>surf</td>\n",
       "      <td>20</td>\n",
       "      <td>50</td>\n",
       "      <td>15.0</td>\n",
       "      <td>...</td>\n",
       "      <td>0.03</td>\n",
       "      <td>10</td>\n",
       "      <td>0.03</td>\n",
       "      <td>False</td>\n",
       "      <td>0.0</td>\n",
       "      <td>False</td>\n",
       "      <td>0.0</td>\n",
       "      <td>True</td>\n",
       "      <td>6.0</td>\n",
       "      <td>80.00</td>\n",
       "    </tr>\n",
       "    <tr>\n",
       "      <th>755</th>\n",
       "      <td>1010</td>\n",
       "      <td>7</td>\n",
       "      <td>101.0</td>\n",
       "      <td>698.0</td>\n",
       "      <td>NaN</td>\n",
       "      <td>13.0</td>\n",
       "      <td>surf</td>\n",
       "      <td>20</td>\n",
       "      <td>50</td>\n",
       "      <td>15.0</td>\n",
       "      <td>...</td>\n",
       "      <td>0.03</td>\n",
       "      <td>10</td>\n",
       "      <td>0.03</td>\n",
       "      <td>True</td>\n",
       "      <td>198.0</td>\n",
       "      <td>False</td>\n",
       "      <td>0.0</td>\n",
       "      <td>False</td>\n",
       "      <td>0.0</td>\n",
       "      <td>25.94</td>\n",
       "    </tr>\n",
       "    <tr>\n",
       "      <th>1144</th>\n",
       "      <td>1130</td>\n",
       "      <td>11</td>\n",
       "      <td>80.0</td>\n",
       "      <td>586.0</td>\n",
       "      <td>89.0</td>\n",
       "      <td>14.0</td>\n",
       "      <td>surf</td>\n",
       "      <td>20</td>\n",
       "      <td>50</td>\n",
       "      <td>15.0</td>\n",
       "      <td>...</td>\n",
       "      <td>0.03</td>\n",
       "      <td>10</td>\n",
       "      <td>0.03</td>\n",
       "      <td>True</td>\n",
       "      <td>86.0</td>\n",
       "      <td>True</td>\n",
       "      <td>39.0</td>\n",
       "      <td>False</td>\n",
       "      <td>0.0</td>\n",
       "      <td>23.75</td>\n",
       "    </tr>\n",
       "    <tr>\n",
       "      <th>718</th>\n",
       "      <td>1493</td>\n",
       "      <td>12</td>\n",
       "      <td>65.0</td>\n",
       "      <td>473.0</td>\n",
       "      <td>NaN</td>\n",
       "      <td>15.0</td>\n",
       "      <td>ultimate</td>\n",
       "      <td>70</td>\n",
       "      <td>1000</td>\n",
       "      <td>30.0</td>\n",
       "      <td>...</td>\n",
       "      <td>0.01</td>\n",
       "      <td>7</td>\n",
       "      <td>0.01</td>\n",
       "      <td>False</td>\n",
       "      <td>0.0</td>\n",
       "      <td>False</td>\n",
       "      <td>0.0</td>\n",
       "      <td>False</td>\n",
       "      <td>0.0</td>\n",
       "      <td>70.00</td>\n",
       "    </tr>\n",
       "    <tr>\n",
       "      <th>2008</th>\n",
       "      <td>1392</td>\n",
       "      <td>12</td>\n",
       "      <td>40.0</td>\n",
       "      <td>323.0</td>\n",
       "      <td>62.0</td>\n",
       "      <td>17.0</td>\n",
       "      <td>surf</td>\n",
       "      <td>20</td>\n",
       "      <td>50</td>\n",
       "      <td>15.0</td>\n",
       "      <td>...</td>\n",
       "      <td>0.03</td>\n",
       "      <td>10</td>\n",
       "      <td>0.03</td>\n",
       "      <td>False</td>\n",
       "      <td>0.0</td>\n",
       "      <td>True</td>\n",
       "      <td>12.0</td>\n",
       "      <td>True</td>\n",
       "      <td>2.0</td>\n",
       "      <td>40.36</td>\n",
       "    </tr>\n",
       "    <tr>\n",
       "      <th>2247</th>\n",
       "      <td>1489</td>\n",
       "      <td>10</td>\n",
       "      <td>66.0</td>\n",
       "      <td>518.0</td>\n",
       "      <td>84.0</td>\n",
       "      <td>15.0</td>\n",
       "      <td>surf</td>\n",
       "      <td>20</td>\n",
       "      <td>50</td>\n",
       "      <td>15.0</td>\n",
       "      <td>...</td>\n",
       "      <td>0.03</td>\n",
       "      <td>10</td>\n",
       "      <td>0.03</td>\n",
       "      <td>True</td>\n",
       "      <td>18.0</td>\n",
       "      <td>True</td>\n",
       "      <td>34.0</td>\n",
       "      <td>False</td>\n",
       "      <td>0.0</td>\n",
       "      <td>21.56</td>\n",
       "    </tr>\n",
       "    <tr>\n",
       "      <th>1390</th>\n",
       "      <td>1203</td>\n",
       "      <td>3</td>\n",
       "      <td>6.0</td>\n",
       "      <td>40.0</td>\n",
       "      <td>3.0</td>\n",
       "      <td>2.0</td>\n",
       "      <td>surf</td>\n",
       "      <td>20</td>\n",
       "      <td>50</td>\n",
       "      <td>15.0</td>\n",
       "      <td>...</td>\n",
       "      <td>0.03</td>\n",
       "      <td>10</td>\n",
       "      <td>0.03</td>\n",
       "      <td>False</td>\n",
       "      <td>0.0</td>\n",
       "      <td>False</td>\n",
       "      <td>0.0</td>\n",
       "      <td>False</td>\n",
       "      <td>0.0</td>\n",
       "      <td>20.00</td>\n",
       "    </tr>\n",
       "    <tr>\n",
       "      <th>477</th>\n",
       "      <td>1368</td>\n",
       "      <td>5</td>\n",
       "      <td>38.0</td>\n",
       "      <td>291.0</td>\n",
       "      <td>NaN</td>\n",
       "      <td>8.0</td>\n",
       "      <td>ultimate</td>\n",
       "      <td>70</td>\n",
       "      <td>1000</td>\n",
       "      <td>30.0</td>\n",
       "      <td>...</td>\n",
       "      <td>0.01</td>\n",
       "      <td>7</td>\n",
       "      <td>0.01</td>\n",
       "      <td>False</td>\n",
       "      <td>0.0</td>\n",
       "      <td>False</td>\n",
       "      <td>0.0</td>\n",
       "      <td>False</td>\n",
       "      <td>0.0</td>\n",
       "      <td>70.00</td>\n",
       "    </tr>\n",
       "    <tr>\n",
       "      <th>2076</th>\n",
       "      <td>1408</td>\n",
       "      <td>12</td>\n",
       "      <td>66.0</td>\n",
       "      <td>486.0</td>\n",
       "      <td>32.0</td>\n",
       "      <td>15.0</td>\n",
       "      <td>surf</td>\n",
       "      <td>20</td>\n",
       "      <td>50</td>\n",
       "      <td>15.0</td>\n",
       "      <td>...</td>\n",
       "      <td>0.03</td>\n",
       "      <td>10</td>\n",
       "      <td>0.03</td>\n",
       "      <td>False</td>\n",
       "      <td>0.0</td>\n",
       "      <td>False</td>\n",
       "      <td>0.0</td>\n",
       "      <td>False</td>\n",
       "      <td>0.0</td>\n",
       "      <td>20.00</td>\n",
       "    </tr>\n",
       "    <tr>\n",
       "      <th>937</th>\n",
       "      <td>1073</td>\n",
       "      <td>7</td>\n",
       "      <td>44.0</td>\n",
       "      <td>325.0</td>\n",
       "      <td>NaN</td>\n",
       "      <td>15.0</td>\n",
       "      <td>surf</td>\n",
       "      <td>20</td>\n",
       "      <td>50</td>\n",
       "      <td>15.0</td>\n",
       "      <td>...</td>\n",
       "      <td>0.03</td>\n",
       "      <td>10</td>\n",
       "      <td>0.03</td>\n",
       "      <td>False</td>\n",
       "      <td>0.0</td>\n",
       "      <td>False</td>\n",
       "      <td>0.0</td>\n",
       "      <td>False</td>\n",
       "      <td>0.0</td>\n",
       "      <td>20.00</td>\n",
       "    </tr>\n",
       "    <tr>\n",
       "      <th>847</th>\n",
       "      <td>1051</td>\n",
       "      <td>12</td>\n",
       "      <td>29.0</td>\n",
       "      <td>173.0</td>\n",
       "      <td>60.0</td>\n",
       "      <td>11.0</td>\n",
       "      <td>surf</td>\n",
       "      <td>20</td>\n",
       "      <td>50</td>\n",
       "      <td>15.0</td>\n",
       "      <td>...</td>\n",
       "      <td>0.03</td>\n",
       "      <td>10</td>\n",
       "      <td>0.03</td>\n",
       "      <td>False</td>\n",
       "      <td>0.0</td>\n",
       "      <td>True</td>\n",
       "      <td>10.0</td>\n",
       "      <td>False</td>\n",
       "      <td>0.0</td>\n",
       "      <td>20.30</td>\n",
       "    </tr>\n",
       "    <tr>\n",
       "      <th>1000</th>\n",
       "      <td>1090</td>\n",
       "      <td>12</td>\n",
       "      <td>45.0</td>\n",
       "      <td>286.0</td>\n",
       "      <td>31.0</td>\n",
       "      <td>15.0</td>\n",
       "      <td>surf</td>\n",
       "      <td>20</td>\n",
       "      <td>50</td>\n",
       "      <td>15.0</td>\n",
       "      <td>...</td>\n",
       "      <td>0.03</td>\n",
       "      <td>10</td>\n",
       "      <td>0.03</td>\n",
       "      <td>False</td>\n",
       "      <td>0.0</td>\n",
       "      <td>False</td>\n",
       "      <td>0.0</td>\n",
       "      <td>False</td>\n",
       "      <td>0.0</td>\n",
       "      <td>20.00</td>\n",
       "    </tr>\n",
       "    <tr>\n",
       "      <th>2253</th>\n",
       "      <td>1491</td>\n",
       "      <td>7</td>\n",
       "      <td>60.0</td>\n",
       "      <td>463.0</td>\n",
       "      <td>64.0</td>\n",
       "      <td>8.0</td>\n",
       "      <td>surf</td>\n",
       "      <td>20</td>\n",
       "      <td>50</td>\n",
       "      <td>15.0</td>\n",
       "      <td>...</td>\n",
       "      <td>0.03</td>\n",
       "      <td>10</td>\n",
       "      <td>0.03</td>\n",
       "      <td>False</td>\n",
       "      <td>0.0</td>\n",
       "      <td>True</td>\n",
       "      <td>14.0</td>\n",
       "      <td>False</td>\n",
       "      <td>0.0</td>\n",
       "      <td>20.42</td>\n",
       "    </tr>\n",
       "    <tr>\n",
       "      <th>381</th>\n",
       "      <td>1250</td>\n",
       "      <td>11</td>\n",
       "      <td>77.0</td>\n",
       "      <td>597.0</td>\n",
       "      <td>69.0</td>\n",
       "      <td>12.0</td>\n",
       "      <td>ultimate</td>\n",
       "      <td>70</td>\n",
       "      <td>1000</td>\n",
       "      <td>30.0</td>\n",
       "      <td>...</td>\n",
       "      <td>0.01</td>\n",
       "      <td>7</td>\n",
       "      <td>0.01</td>\n",
       "      <td>False</td>\n",
       "      <td>0.0</td>\n",
       "      <td>False</td>\n",
       "      <td>0.0</td>\n",
       "      <td>False</td>\n",
       "      <td>0.0</td>\n",
       "      <td>70.00</td>\n",
       "    </tr>\n",
       "  </tbody>\n",
       "</table>\n",
       "<p>15 rows × 21 columns</p>\n",
       "</div>"
      ],
      "text/plain": [
       "      user_id  month  calls_made  call_duration  msg_sent  gb_consumed  \\\n",
       "24       1028     10         6.0           39.0      73.0         46.0   \n",
       "2093     1415      9        74.0          415.0       NaN         21.0   \n",
       "755      1010      7       101.0          698.0       NaN         13.0   \n",
       "1144     1130     11        80.0          586.0      89.0         14.0   \n",
       "718      1493     12        65.0          473.0       NaN         15.0   \n",
       "2008     1392     12        40.0          323.0      62.0         17.0   \n",
       "2247     1489     10        66.0          518.0      84.0         15.0   \n",
       "1390     1203      3         6.0           40.0       3.0          2.0   \n",
       "477      1368      5        38.0          291.0       NaN          8.0   \n",
       "2076     1408     12        66.0          486.0      32.0         15.0   \n",
       "937      1073      7        44.0          325.0       NaN         15.0   \n",
       "847      1051     12        29.0          173.0      60.0         11.0   \n",
       "1000     1090     12        45.0          286.0      31.0         15.0   \n",
       "2253     1491      7        60.0          463.0      64.0          8.0   \n",
       "381      1250     11        77.0          597.0      69.0         12.0   \n",
       "\n",
       "          plan  usd_monthly_pay  messages_included  gb_per_month_included  \\\n",
       "24    ultimate               70               1000                   30.0   \n",
       "2093      surf               20                 50                   15.0   \n",
       "755       surf               20                 50                   15.0   \n",
       "1144      surf               20                 50                   15.0   \n",
       "718   ultimate               70               1000                   30.0   \n",
       "2008      surf               20                 50                   15.0   \n",
       "2247      surf               20                 50                   15.0   \n",
       "1390      surf               20                 50                   15.0   \n",
       "477   ultimate               70               1000                   30.0   \n",
       "2076      surf               20                 50                   15.0   \n",
       "937       surf               20                 50                   15.0   \n",
       "847       surf               20                 50                   15.0   \n",
       "1000      surf               20                 50                   15.0   \n",
       "2253      surf               20                 50                   15.0   \n",
       "381   ultimate               70               1000                   30.0   \n",
       "\n",
       "      ...  usd_per_message  usd_per_gb  usd_per_minute  minutes_excess  \\\n",
       "24    ...             0.01           7            0.01           False   \n",
       "2093  ...             0.03          10            0.03           False   \n",
       "755   ...             0.03          10            0.03            True   \n",
       "1144  ...             0.03          10            0.03            True   \n",
       "718   ...             0.01           7            0.01           False   \n",
       "2008  ...             0.03          10            0.03           False   \n",
       "2247  ...             0.03          10            0.03            True   \n",
       "1390  ...             0.03          10            0.03           False   \n",
       "477   ...             0.01           7            0.01           False   \n",
       "2076  ...             0.03          10            0.03           False   \n",
       "937   ...             0.03          10            0.03           False   \n",
       "847   ...             0.03          10            0.03           False   \n",
       "1000  ...             0.03          10            0.03           False   \n",
       "2253  ...             0.03          10            0.03           False   \n",
       "381   ...             0.01           7            0.01           False   \n",
       "\n",
       "      minutes_excess_qty  msg_excess  msg_excess_qty  internet_excess  \\\n",
       "24                   0.0       False             0.0             True   \n",
       "2093                 0.0       False             0.0             True   \n",
       "755                198.0       False             0.0            False   \n",
       "1144                86.0        True            39.0            False   \n",
       "718                  0.0       False             0.0            False   \n",
       "2008                 0.0        True            12.0             True   \n",
       "2247                18.0        True            34.0            False   \n",
       "1390                 0.0       False             0.0            False   \n",
       "477                  0.0       False             0.0            False   \n",
       "2076                 0.0       False             0.0            False   \n",
       "937                  0.0       False             0.0            False   \n",
       "847                  0.0        True            10.0            False   \n",
       "1000                 0.0       False             0.0            False   \n",
       "2253                 0.0        True            14.0            False   \n",
       "381                  0.0       False             0.0            False   \n",
       "\n",
       "      internet_excess_qty  revenue  \n",
       "24                   16.0   182.00  \n",
       "2093                  6.0    80.00  \n",
       "755                   0.0    25.94  \n",
       "1144                  0.0    23.75  \n",
       "718                   0.0    70.00  \n",
       "2008                  2.0    40.36  \n",
       "2247                  0.0    21.56  \n",
       "1390                  0.0    20.00  \n",
       "477                   0.0    70.00  \n",
       "2076                  0.0    20.00  \n",
       "937                   0.0    20.00  \n",
       "847                   0.0    20.30  \n",
       "1000                  0.0    20.00  \n",
       "2253                  0.0    20.42  \n",
       "381                   0.0    70.00  \n",
       "\n",
       "[15 rows x 21 columns]"
      ]
     },
     "execution_count": 28,
     "metadata": {},
     "output_type": "execute_result"
    }
   ],
   "source": [
    "# Calculating revenue\n",
    "usermonth_planinfo_details[\"revenue\"] = usermonth_planinfo_details[\"usd_monthly_pay\"] + usermonth_planinfo_details[\"minutes_excess_qty\"] * usermonth_planinfo_details[\"usd_per_minute\"] + usermonth_planinfo_details[\"msg_excess_qty\"] * usermonth_planinfo_details[\"usd_per_message\"] + usermonth_planinfo_details[\"internet_excess_qty\"] * usermonth_planinfo_details[\"usd_per_gb\"]\n",
    "usermonth_planinfo_details.sample(15)"
   ]
  },
  {
   "cell_type": "markdown",
   "metadata": {
    "id": "0HFWXKTQuj8r"
   },
   "source": [
    "## Understanding Customer Behaviour"
   ]
  },
  {
   "cell_type": "markdown",
   "metadata": {
    "id": "umaMfSLxuj8s"
   },
   "source": [
    "### Calls"
   ]
  },
  {
   "cell_type": "code",
   "execution_count": 29,
   "metadata": {
    "id": "0236-tJnuj8t"
   },
   "outputs": [
    {
     "data": {
      "text/plain": [
       "<AxesSubplot:title={'center':'Duração Média das chamadas por mês e por plano'}, xlabel='month', ylabel='Duração em minutos'>"
      ]
     },
     "execution_count": 29,
     "metadata": {},
     "output_type": "execute_result"
    },
    {
     "data": {
      "image/png": "[encoded data removed]",
      "text/plain": [
       "<Figure size 1600x900 with 1 Axes>"
      ]
     },
     "metadata": {},
     "output_type": "display_data"
    }
   ],
   "source": [
    "# Comparing average dcall duration for each plan per month and plotting a bar chart to visualize\n",
    "avg_calls_month_plan = usermonth_planinfo_details.pivot_table(\n",
    "    index=\"month\",\n",
    "    columns=\"plan\",\n",
    "    values=\"call_duration\",\n",
    "    aggfunc=\"mean\")\n",
    "\n",
    "avg_calls_month_plan.plot(\n",
    "    kind=\"bar\",\n",
    "    title=\"Average call duration per month and plan\",\n",
    "    ylabel=\"Duration in minutes\",\n",
    "    figsize=[16,9]\n",
    ")"
   ]
  },
  {
   "cell_type": "code",
   "execution_count": 30,
   "metadata": {
    "id": "9sCQ1lP8uj8u"
   },
   "outputs": [
    {
     "data": {
      "image/png": "[encoded data removed]",
      "text/plain": [
       "<Figure size 640x480 with 1 Axes>"
      ]
     },
     "metadata": {},
     "output_type": "display_data"
    }
   ],
   "source": [
    "# Comparing minutes consumed by user per plan and plotting a histogram\n",
    "sum_minutes_month_plan = usermonth_planinfo_details.pivot_table(\n",
    "    index=\"month\",\n",
    "    columns=\"plan\",\n",
    "    values=\"call_duration\",\n",
    "    aggfunc=\"sum\"\n",
    ")\n",
    "sum_minutes_hist = sum_minutes_month_plan.plot(\n",
    "    kind=\"bar\",\n",
    "    title=\"Total de minutos consumidos por mês e por plano\",\n",
    "    ylabel=\"Minutos consumidos\"\n",
    ")"
   ]
  },
  {
   "cell_type": "code",
   "execution_count": 31,
   "metadata": {
    "id": "cIdodPExuj8u"
   },
   "outputs": [
    {
     "name": "stdout",
     "output_type": "stream",
     "text": [
      "plan\n",
      "surf        436.519741\n",
      "ultimate    434.676017\n",
      "Name: call_duration, dtype: float64\n",
      "plan\n",
      "surf        430.0\n",
      "ultimate    425.0\n",
      "Name: call_duration, dtype: float64\n",
      "plan\n",
      "surf        52571.063243\n",
      "ultimate    56573.632247\n",
      "Name: call_duration, dtype: float64\n",
      "plan\n",
      "surf        229.283805\n",
      "ultimate    237.852123\n",
      "Name: call_duration, dtype: float64\n"
     ]
    }
   ],
   "source": [
    "# Calculating average and variance of monthly call duration\n",
    "avg_minutes_month_plan = usermonth_planinfo_details.groupby(\"plan\")[\"call_duration\"].mean()\n",
    "print(avg_minutes_month_plan)\n",
    "\n",
    "median_minutes_month_plan = usermonth_planinfo_details.groupby(\"plan\")[\"call_duration\"].median()\n",
    "print(median_minutes_month_plan)\n",
    "\n",
    "var_minutes_month_plan = usermonth_planinfo_details.groupby(\"plan\")[\"call_duration\"].var()\n",
    "print(var_minutes_month_plan)\n",
    "\n",
    "std_minutes_month_plan = np.sqrt(var_minutes_month_plan)\n",
    "print(std_minutes_month_plan)"
   ]
  },
  {
   "cell_type": "code",
   "execution_count": 32,
   "metadata": {
    "id": "DW7vTypxuj8u"
   },
   "outputs": [
    {
     "data": {
      "text/plain": [
       "<AxesSubplot:xlabel='plan', ylabel='call_duration'>"
      ]
     },
     "execution_count": 32,
     "metadata": {},
     "output_type": "execute_result"
    },
    {
     "data": {
      "image/png": "[encoded data removed]",
      "text/plain": [
       "<Figure size 640x480 with 1 Axes>"
      ]
     },
     "metadata": {},
     "output_type": "display_data"
    }
   ],
   "source": [
    "# Creating a boxplot diagram tovisualiza monthly call duration distribution\n",
    "import seaborn as sns\n",
    "sns.boxplot(x=usermonth_planinfo_details[\"plan\"], y=usermonth_planinfo_details[\"call_duration\"])"
   ]
  },
  {
   "cell_type": "markdown",
   "metadata": {
    "id": "Uyt3rWn7uj8u"
   },
   "source": [
    "Conclusions:\n",
    "- The average call duration is similar between the two plans, with a mean of 436 minutes for Surf and 434 minutes for Ultimate. However, the variance for Surf is slightly lower.\n",
    "\n",
    "- The mean is greater than the median in both plans, indicating a right skew.\n",
    "\n",
    "- There are several outliers in both the Surf and Ultimate plans, with consumption exceeding 1,000 minutes per month.\n",
    "\n",
    "- From a call duration perspective, the Surf plan, with its 500 minutes per month, would cover more than 50% of the users.\n",
    "\n",
    "- More minutes are consumed on the Surf plan than on the Ultimate plan in nearly every month of the year.\n",
    "\n",
    "- We observed that minute consumption increases throughout the year, reaching its peak in December. This trend is seen in both plans"
   ]
  },
  {
   "cell_type": "markdown",
   "metadata": {
    "id": "2hWSPtrnuj8v"
   },
   "source": [
    "### Messages"
   ]
  },
  {
   "cell_type": "code",
   "execution_count": 33,
   "metadata": {
    "id": "9kPlAhOJuj8v"
   },
   "outputs": [
    {
     "data": {
      "image/png": "[encoded data removed]",
      "text/plain": [
       "<Figure size 640x480 with 1 Axes>"
      ]
     },
     "metadata": {},
     "output_type": "display_data"
    }
   ],
   "source": [
    "# Comparing # of monthly messages sent by users of each plan\n",
    "sum_message_month_plan = usermonth_planinfo_details.pivot_table(\n",
    "    index=\"month\",\n",
    "    columns=\"plan\",\n",
    "    values=\"msg_sent\",\n",
    "    aggfunc=\"sum\"\n",
    ")\n",
    "sum_message_hist = sum_message_month_plan.plot(\n",
    "    kind=\"bar\",\n",
    "    title=\"Messages per month and plan\",\n",
    "    ylabel=\"Messages Sent\"\n",
    ")"
   ]
  },
  {
   "cell_type": "code",
   "execution_count": 34,
   "metadata": {
    "id": "fIVdRuT6uj8v"
   },
   "outputs": [
    {
     "name": "stdout",
     "output_type": "stream",
     "text": [
      "plan\n",
      "surf        40.109656\n",
      "ultimate    46.296233\n",
      "Name: msg_sent, dtype: float64\n",
      "plan\n",
      "surf        32.0\n",
      "ultimate    41.0\n",
      "Name: msg_sent, dtype: float64\n",
      "plan\n",
      "surf        1091.344231\n",
      "ultimate    1085.183108\n",
      "Name: msg_sent, dtype: float64\n",
      "plan\n",
      "surf        33.035500\n",
      "ultimate    32.942118\n",
      "Name: msg_sent, dtype: float64\n"
     ]
    }
   ],
   "source": [
    "# Calculating average and variance of messages sent\n",
    "avg_message_month_plan = usermonth_planinfo_details.groupby(\"plan\")[\"msg_sent\"].mean()\n",
    "print(avg_message_month_plan)\n",
    "\n",
    "median_message_month_plan = usermonth_planinfo_details.groupby(\"plan\")[\"msg_sent\"].median()\n",
    "print(median_message_month_plan)\n",
    "\n",
    "var_message_month_plan = usermonth_planinfo_details.groupby(\"plan\")[\"msg_sent\"].var()\n",
    "print(var_message_month_plan)\n",
    "\n",
    "std_message_month_plan = np.sqrt(var_message_month_plan)\n",
    "print(std_message_month_plan)"
   ]
  },
  {
   "cell_type": "code",
   "execution_count": 35,
   "metadata": {},
   "outputs": [
    {
     "data": {
      "text/plain": [
       "<AxesSubplot:xlabel='plan', ylabel='msg_sent'>"
      ]
     },
     "execution_count": 35,
     "metadata": {},
     "output_type": "execute_result"
    },
    {
     "data": {
      "image/png": "[encoded data removed]",
      "text/plain": [
       "<Figure size 640x480 with 1 Axes>"
      ]
     },
     "metadata": {},
     "output_type": "display_data"
    }
   ],
   "source": [
    "# Plotting in a boxplot to visualize\n",
    "sns.boxplot(x=usermonth_planinfo_details[\"plan\"], y=usermonth_planinfo_details[\"msg_sent\"])"
   ]
  },
  {
   "cell_type": "markdown",
   "metadata": {
    "id": "v6QELMtcuj8v"
   },
   "source": [
    "Conclusions:\n",
    "\n",
    "- The plans have similar averages (40 for Surf and 44 for Ultimate) with close standard deviations (33 and 32, respectively). The median for Ultimate is slightly higher than that for Surf.\n",
    "\n",
    "- The mean is greater than the median in both plans, indicating a right skew.\n",
    "\n",
    "- The Surf plan has more outliers, suggesting that some users send many messages beyond the package limit.\n",
    "\n",
    "- More messages are sent on the Surf plan than on the Ultimate plan in nearly every month of the year.\n",
    "\n",
    "- We observed that the number of messages sent increases throughout the year, reaching its peak in December. This trend is seen in both plans."
   ]
  },
  {
   "cell_type": "markdown",
   "metadata": {
    "id": "nHUCwAnauj8w"
   },
   "source": [
    "### Internet"
   ]
  },
  {
   "cell_type": "code",
   "execution_count": 36,
   "metadata": {
    "id": "EEm27RaRuj8w"
   },
   "outputs": [
    {
     "data": {
      "image/png": "[encoded data removed]",
      "text/plain": [
       "<Figure size 640x480 with 1 Axes>"
      ]
     },
     "metadata": {},
     "output_type": "display_data"
    }
   ],
   "source": [
    "# Comparing internet traffic used by users per plan\n",
    "sum_internet_month_plan = usermonth_planinfo_details.pivot_table(\n",
    "    index=\"month\",\n",
    "    columns=\"plan\",\n",
    "    values=\"gb_consumed\",\n",
    "    aggfunc=\"sum\"\n",
    ")\n",
    "sum_internet_hist = sum_internet_month_plan.plot(\n",
    "    kind=\"bar\",\n",
    "    title=\"Total gb consumed per month and plan\",\n",
    "    ylabel=\"Consumed Gb\"\n",
    ")"
   ]
  },
  {
   "cell_type": "code",
   "execution_count": 37,
   "metadata": {
    "id": "Detb0wIZuj8w"
   },
   "outputs": [
    {
     "name": "stdout",
     "output_type": "stream",
     "text": [
      "plan\n",
      "surf        16.831194\n",
      "ultimate    17.331015\n",
      "Name: gb_consumed, dtype: float64\n",
      "plan\n",
      "surf        17.0\n",
      "ultimate    17.0\n",
      "Name: gb_consumed, dtype: float64\n",
      "plan\n",
      "surf        59.473734\n",
      "ultimate    58.494733\n",
      "Name: gb_consumed, dtype: float64\n",
      "plan\n",
      "surf        7.711922\n",
      "ultimate    7.648185\n",
      "Name: gb_consumed, dtype: float64\n"
     ]
    }
   ],
   "source": [
    "# Calculating the average and variance of consumed gbs\n",
    "avg_internet_month_plan = usermonth_planinfo_details.groupby(\"plan\")[\"gb_consumed\"].mean()\n",
    "print(avg_internet_month_plan)\n",
    "\n",
    "median_internet_month_plan = usermonth_planinfo_details.groupby(\"plan\")[\"gb_consumed\"].median()\n",
    "print(median_internet_month_plan)\n",
    "\n",
    "var_internet_month_plan = usermonth_planinfo_details.groupby(\"plan\")[\"gb_consumed\"].var()\n",
    "print(var_internet_month_plan)\n",
    "\n",
    "std_internet_month_plan = np.sqrt(var_internet_month_plan)\n",
    "print(std_internet_month_plan)"
   ]
  },
  {
   "cell_type": "code",
   "execution_count": 38,
   "metadata": {
    "id": "1zsw31_cuj8w"
   },
   "outputs": [
    {
     "data": {
      "text/plain": [
       "<AxesSubplot:xlabel='plan', ylabel='gb_consumed'>"
      ]
     },
     "execution_count": 38,
     "metadata": {},
     "output_type": "execute_result"
    },
    {
     "data": {
      "image/png": "[encoded data removed]",
      "text/plain": [
       "<Figure size 640x480 with 1 Axes>"
      ]
     },
     "metadata": {},
     "output_type": "display_data"
    }
   ],
   "source": [
    "# Plotting in a boxplot to visualize\n",
    "sns.boxplot(x=usermonth_planinfo_details[\"plan\"], y=usermonth_planinfo_details[\"gb_consumed\"])"
   ]
  },
  {
   "cell_type": "markdown",
   "metadata": {
    "id": "GsHkFpGmuj8w"
   },
   "source": [
    "Conclusions:\n",
    "\n",
    "- The averages of the two plans are very close in terms of internet consumption and are similar to the median, indicating a symmetric distribution. The standard deviation is 8 for both plans.\n",
    "\n",
    "- There are more outliers in the Surf plan than in the Ultimate plan.\n",
    "\n",
    "- More GBs are consumed in the Surf plan than in the Ultimate plan in nearly every month of the year.\n",
    "\n",
    "- We observed that GB consumption increases throughout the year, reaching its peak in December. This trend is seen in both plans."
   ]
  },
  {
   "cell_type": "markdown",
   "metadata": {
    "id": "g23qXaYNuj8x"
   },
   "source": [
    "## Revenue"
   ]
  },
  {
   "cell_type": "code",
   "execution_count": 39,
   "metadata": {
    "id": "CGuBwYRyuj8y"
   },
   "outputs": [
    {
     "data": {
      "image/png": "[encoded data removed]",
      "text/plain": [
       "<Figure size 640x480 with 1 Axes>"
      ]
     },
     "metadata": {},
     "output_type": "display_data"
    }
   ],
   "source": [
    "# Comparing revenue per month and plan\n",
    "sum_revenue_month_plan = usermonth_planinfo_details.pivot_table(\n",
    "    index=\"month\",\n",
    "    columns=\"plan\",\n",
    "    values=\"revenue\",\n",
    "    aggfunc=\"sum\"\n",
    ")\n",
    "sum_revenue_hist = sum_revenue_month_plan.plot(\n",
    "    kind=\"bar\",\n",
    "    title=\"Total REvenue per month and plan\",\n",
    "    ylabel=\"Revenue\"\n",
    ")"
   ]
  },
  {
   "cell_type": "code",
   "execution_count": 40,
   "metadata": {
    "id": "qJSyfvUguj8y"
   },
   "outputs": [
    {
     "name": "stdout",
     "output_type": "stream",
     "text": [
      "plan\n",
      "surf        60.706408\n",
      "ultimate    72.313889\n",
      "Name: revenue, dtype: float64\n",
      "plan\n",
      "surf        40.36\n",
      "ultimate    70.00\n",
      "Name: revenue, dtype: float64\n",
      "plan\n",
      "surf        3067.835152\n",
      "ultimate     129.848486\n",
      "Name: revenue, dtype: float64\n",
      "plan\n",
      "surf        55.388042\n",
      "ultimate    11.395108\n",
      "Name: revenue, dtype: float64\n"
     ]
    }
   ],
   "source": [
    "# Calculating average and variance for revenue\n",
    "avg_revenue_month_plan = usermonth_planinfo_details.groupby(\"plan\")[\"revenue\"].mean()\n",
    "print(avg_revenue_month_plan)\n",
    "\n",
    "median_revenue_month_plan = usermonth_planinfo_details.groupby(\"plan\")[\"revenue\"].median()\n",
    "print(median_revenue_month_plan)\n",
    "\n",
    "var_revenue_month_plan = usermonth_planinfo_details.groupby(\"plan\")[\"revenue\"].var()\n",
    "print(var_revenue_month_plan)\n",
    "\n",
    "std_revenue_month_plan = np.sqrt(var_revenue_month_plan)\n",
    "print(std_revenue_month_plan)"
   ]
  },
  {
   "cell_type": "code",
   "execution_count": 41,
   "metadata": {
    "id": "KUSxMW71uj8z"
   },
   "outputs": [
    {
     "data": {
      "text/plain": [
       "<AxesSubplot:xlabel='plan', ylabel='revenue'>"
      ]
     },
     "execution_count": 41,
     "metadata": {},
     "output_type": "execute_result"
    },
    {
     "data": {
      "image/png": "[encoded data removed]",
      "text/plain": [
       "<Figure size 640x480 with 1 Axes>"
      ]
     },
     "metadata": {},
     "output_type": "display_data"
    }
   ],
   "source": [
    "# Plotting in a boxplot to visualize\n",
    "sns.boxplot(x=usermonth_planinfo_details[\"plan\"], y=usermonth_planinfo_details[\"revenue\"])"
   ]
  },
  {
   "cell_type": "markdown",
   "metadata": {
    "id": "6X34EwHpuj8z"
   },
   "source": [
    "Conclusions:\n",
    "\n",
    "- We observed that the Ultimate plan is nearly symmetric in terms of revenue, as the mean and median are very close (72 and 70, respectively). \n",
    "  \n",
    "- The Surf plan, however, is highly right-skewed, with a mean significantly higher than the median (60 and 40, respectively).\n",
    "\n",
    "- Both plans have right-side outliers, but the Surf plan has more outliers than the Ultimate plan.\n",
    "\n",
    "- The standard deviation of the Surf plan is quite high (55), nearly equal to its mean (60). Such dispersion could indicate a non-normal distribution, though additional tests are required to confirm this hypothesis. On the other hand, the Ultimate plan has a much smaller standard deviation (11).\n",
    "\n"
   ]
  },
  {
   "cell_type": "markdown",
   "metadata": {
    "id": "xJ6Mu-KAuj8z"
   },
   "source": [
    "## Hipothesys Testing"
   ]
  },
  {
   "cell_type": "markdown",
   "metadata": {
    "id": "lop_0j4Duj8z"
   },
   "source": [
    "[Teste a hipótese de que a receita média dos usuários dos planos Ultimate e Surf são diferentes.]"
   ]
  },
  {
   "cell_type": "markdown",
   "metadata": {
    "id": "-X2l1R8Luj80"
   },
   "source": [
    "[Formule as hipóteses nula e alternativa, escolha o teste estatístico, escolha o valor alfa.]"
   ]
  },
  {
   "cell_type": "code",
   "execution_count": 42,
   "metadata": {
    "id": "LyGrPhpUuj80"
   },
   "outputs": [
    {
     "name": "stdout",
     "output_type": "stream",
     "text": [
      "valor-p:  2.862674510698644e-08\n",
      "Rejeitamos a hipótese nula - portanto, a receita dos planos é diferente\n"
     ]
    }
   ],
   "source": [
    "# Testing the hypothesys that average revenue of the plans is different\n",
    "\n",
    "# H0 = Plan revenue is not different\n",
    "# H1 = Plan revenue is different\n",
    "\n",
    "sample1 = usermonth_planinfo_details[usermonth_planinfo_details[\"plan\"] == \"surf\"][\"revenue\"]\n",
    "sample2 = usermonth_planinfo_details[usermonth_planinfo_details[\"plan\"] == \"ultimate\"][\"revenue\"]\n",
    "alpha = 0.05\n",
    "\n",
    "results = st.ttest_ind(sample1, sample2) # running the test\n",
    "\n",
    "print('valor-p: ', results.pvalue) # extracting p-value\n",
    "\n",
    "if results.pvalue < alpha: # comparing p-value with threshold\n",
    "    print(\"Reject null hypothesys - therefore plan revenue is different\")\n",
    "else:\n",
    "    print(\"Can't reject null hypothesys - therefore plan revenue is not different\")"
   ]
  },
  {
   "cell_type": "code",
   "execution_count": 43,
   "metadata": {},
   "outputs": [
    {
     "data": {
      "text/html": [
       "<div>\n",
       "<style scoped>\n",
       "    .dataframe tbody tr th:only-of-type {\n",
       "        vertical-align: middle;\n",
       "    }\n",
       "\n",
       "    .dataframe tbody tr th {\n",
       "        vertical-align: top;\n",
       "    }\n",
       "\n",
       "    .dataframe thead th {\n",
       "        text-align: right;\n",
       "    }\n",
       "</style>\n",
       "<table border=\"1\" class=\"dataframe\">\n",
       "  <thead>\n",
       "    <tr style=\"text-align: right;\">\n",
       "      <th></th>\n",
       "      <th>user_id</th>\n",
       "      <th>first_name</th>\n",
       "      <th>last_name</th>\n",
       "      <th>age</th>\n",
       "      <th>city</th>\n",
       "      <th>reg_date</th>\n",
       "      <th>plan</th>\n",
       "      <th>churn_date</th>\n",
       "      <th>region</th>\n",
       "    </tr>\n",
       "  </thead>\n",
       "  <tbody>\n",
       "    <tr>\n",
       "      <th>468</th>\n",
       "      <td>1468</td>\n",
       "      <td>Johana</td>\n",
       "      <td>Kim</td>\n",
       "      <td>55</td>\n",
       "      <td>Denver-Aurora-Lakewood, CO MSA</td>\n",
       "      <td>2018-09-08</td>\n",
       "      <td>surf</td>\n",
       "      <td>not churned</td>\n",
       "      <td>CO MSA</td>\n",
       "    </tr>\n",
       "    <tr>\n",
       "      <th>457</th>\n",
       "      <td>1457</td>\n",
       "      <td>Janean</td>\n",
       "      <td>Lynch</td>\n",
       "      <td>47</td>\n",
       "      <td>New York-Newark-Jersey City, NY-NJ-PA MSA</td>\n",
       "      <td>2018-02-17</td>\n",
       "      <td>surf</td>\n",
       "      <td>not churned</td>\n",
       "      <td>NY-NJ-PA MSA</td>\n",
       "    </tr>\n",
       "    <tr>\n",
       "      <th>495</th>\n",
       "      <td>1495</td>\n",
       "      <td>Fidel</td>\n",
       "      <td>Sharpe</td>\n",
       "      <td>67</td>\n",
       "      <td>New York-Newark-Jersey City, NY-NJ-PA MSA</td>\n",
       "      <td>2018-09-04</td>\n",
       "      <td>surf</td>\n",
       "      <td>not churned</td>\n",
       "      <td>NY-NJ-PA MSA</td>\n",
       "    </tr>\n",
       "    <tr>\n",
       "      <th>356</th>\n",
       "      <td>1356</td>\n",
       "      <td>Hae</td>\n",
       "      <td>Ryan</td>\n",
       "      <td>46</td>\n",
       "      <td>Milwaukee-Waukesha, WI MSA</td>\n",
       "      <td>2018-05-16</td>\n",
       "      <td>surf</td>\n",
       "      <td>not churned</td>\n",
       "      <td>WI MSA</td>\n",
       "    </tr>\n",
       "    <tr>\n",
       "      <th>126</th>\n",
       "      <td>1126</td>\n",
       "      <td>Jermaine</td>\n",
       "      <td>Mcguire</td>\n",
       "      <td>68</td>\n",
       "      <td>Chicago-Naperville-Elgin, IL-IN-WI MSA</td>\n",
       "      <td>2018-06-02</td>\n",
       "      <td>ultimate</td>\n",
       "      <td>not churned</td>\n",
       "      <td>IL-IN-WI MSA</td>\n",
       "    </tr>\n",
       "  </tbody>\n",
       "</table>\n",
       "</div>"
      ],
      "text/plain": [
       "     user_id first_name last_name  age  \\\n",
       "468     1468     Johana       Kim   55   \n",
       "457     1457     Janean     Lynch   47   \n",
       "495     1495      Fidel    Sharpe   67   \n",
       "356     1356        Hae      Ryan   46   \n",
       "126     1126   Jermaine   Mcguire   68   \n",
       "\n",
       "                                          city   reg_date      plan  \\\n",
       "468             Denver-Aurora-Lakewood, CO MSA 2018-09-08      surf   \n",
       "457  New York-Newark-Jersey City, NY-NJ-PA MSA 2018-02-17      surf   \n",
       "495  New York-Newark-Jersey City, NY-NJ-PA MSA 2018-09-04      surf   \n",
       "356                 Milwaukee-Waukesha, WI MSA 2018-05-16      surf   \n",
       "126     Chicago-Naperville-Elgin, IL-IN-WI MSA 2018-06-02  ultimate   \n",
       "\n",
       "      churn_date        region  \n",
       "468  not churned        CO MSA  \n",
       "457  not churned  NY-NJ-PA MSA  \n",
       "495  not churned  NY-NJ-PA MSA  \n",
       "356  not churned        WI MSA  \n",
       "126  not churned  IL-IN-WI MSA  "
      ]
     },
     "execution_count": 43,
     "metadata": {},
     "output_type": "execute_result"
    }
   ],
   "source": [
    "# Extracting region information and adding it to df_users\n",
    "df_users[\"region\"] = df_users[\"city\"].str.split(\", \").str[1]\n",
    "df_users.sample(5)"
   ]
  },
  {
   "cell_type": "code",
   "execution_count": 44,
   "metadata": {
    "scrolled": false
   },
   "outputs": [
    {
     "data": {
      "text/html": [
       "<div>\n",
       "<style scoped>\n",
       "    .dataframe tbody tr th:only-of-type {\n",
       "        vertical-align: middle;\n",
       "    }\n",
       "\n",
       "    .dataframe tbody tr th {\n",
       "        vertical-align: top;\n",
       "    }\n",
       "\n",
       "    .dataframe thead th {\n",
       "        text-align: right;\n",
       "    }\n",
       "</style>\n",
       "<table border=\"1\" class=\"dataframe\">\n",
       "  <thead>\n",
       "    <tr style=\"text-align: right;\">\n",
       "      <th></th>\n",
       "      <th>user_id</th>\n",
       "      <th>month</th>\n",
       "      <th>calls_made</th>\n",
       "      <th>call_duration</th>\n",
       "      <th>msg_sent</th>\n",
       "      <th>gb_consumed</th>\n",
       "      <th>plan_x</th>\n",
       "      <th>usd_monthly_pay</th>\n",
       "      <th>messages_included</th>\n",
       "      <th>gb_per_month_included</th>\n",
       "      <th>...</th>\n",
       "      <th>usd_per_gb</th>\n",
       "      <th>usd_per_minute</th>\n",
       "      <th>minutes_excess</th>\n",
       "      <th>minutes_excess_qty</th>\n",
       "      <th>msg_excess</th>\n",
       "      <th>msg_excess_qty</th>\n",
       "      <th>internet_excess</th>\n",
       "      <th>internet_excess_qty</th>\n",
       "      <th>revenue</th>\n",
       "      <th>region</th>\n",
       "    </tr>\n",
       "  </thead>\n",
       "  <tbody>\n",
       "    <tr>\n",
       "      <th>312</th>\n",
       "      <td>1213</td>\n",
       "      <td>11</td>\n",
       "      <td>10.0</td>\n",
       "      <td>42.0</td>\n",
       "      <td>11.0</td>\n",
       "      <td>2.0</td>\n",
       "      <td>ultimate</td>\n",
       "      <td>70</td>\n",
       "      <td>1000</td>\n",
       "      <td>30.0</td>\n",
       "      <td>...</td>\n",
       "      <td>7</td>\n",
       "      <td>0.01</td>\n",
       "      <td>False</td>\n",
       "      <td>0.0</td>\n",
       "      <td>False</td>\n",
       "      <td>0.0</td>\n",
       "      <td>False</td>\n",
       "      <td>0.0</td>\n",
       "      <td>70.00</td>\n",
       "      <td>CA MSA</td>\n",
       "    </tr>\n",
       "    <tr>\n",
       "      <th>1458</th>\n",
       "      <td>1223</td>\n",
       "      <td>9</td>\n",
       "      <td>87.0</td>\n",
       "      <td>649.0</td>\n",
       "      <td>27.0</td>\n",
       "      <td>20.0</td>\n",
       "      <td>surf</td>\n",
       "      <td>20</td>\n",
       "      <td>50</td>\n",
       "      <td>15.0</td>\n",
       "      <td>...</td>\n",
       "      <td>10</td>\n",
       "      <td>0.03</td>\n",
       "      <td>True</td>\n",
       "      <td>149.0</td>\n",
       "      <td>False</td>\n",
       "      <td>0.0</td>\n",
       "      <td>True</td>\n",
       "      <td>5.0</td>\n",
       "      <td>74.47</td>\n",
       "      <td>AZ MSA</td>\n",
       "    </tr>\n",
       "    <tr>\n",
       "      <th>180</th>\n",
       "      <td>1126</td>\n",
       "      <td>11</td>\n",
       "      <td>147.0</td>\n",
       "      <td>1037.0</td>\n",
       "      <td>72.0</td>\n",
       "      <td>21.0</td>\n",
       "      <td>ultimate</td>\n",
       "      <td>70</td>\n",
       "      <td>1000</td>\n",
       "      <td>30.0</td>\n",
       "      <td>...</td>\n",
       "      <td>7</td>\n",
       "      <td>0.01</td>\n",
       "      <td>False</td>\n",
       "      <td>0.0</td>\n",
       "      <td>False</td>\n",
       "      <td>0.0</td>\n",
       "      <td>False</td>\n",
       "      <td>0.0</td>\n",
       "      <td>70.00</td>\n",
       "      <td>IL-IN-WI MSA</td>\n",
       "    </tr>\n",
       "    <tr>\n",
       "      <th>161</th>\n",
       "      <td>1108</td>\n",
       "      <td>12</td>\n",
       "      <td>NaN</td>\n",
       "      <td>NaN</td>\n",
       "      <td>NaN</td>\n",
       "      <td>1.0</td>\n",
       "      <td>ultimate</td>\n",
       "      <td>70</td>\n",
       "      <td>1000</td>\n",
       "      <td>30.0</td>\n",
       "      <td>...</td>\n",
       "      <td>7</td>\n",
       "      <td>0.01</td>\n",
       "      <td>False</td>\n",
       "      <td>0.0</td>\n",
       "      <td>False</td>\n",
       "      <td>0.0</td>\n",
       "      <td>False</td>\n",
       "      <td>0.0</td>\n",
       "      <td>70.00</td>\n",
       "      <td>UT MSA</td>\n",
       "    </tr>\n",
       "    <tr>\n",
       "      <th>1773</th>\n",
       "      <td>1324</td>\n",
       "      <td>12</td>\n",
       "      <td>143.0</td>\n",
       "      <td>1047.0</td>\n",
       "      <td>145.0</td>\n",
       "      <td>16.0</td>\n",
       "      <td>surf</td>\n",
       "      <td>20</td>\n",
       "      <td>50</td>\n",
       "      <td>15.0</td>\n",
       "      <td>...</td>\n",
       "      <td>10</td>\n",
       "      <td>0.03</td>\n",
       "      <td>True</td>\n",
       "      <td>547.0</td>\n",
       "      <td>True</td>\n",
       "      <td>95.0</td>\n",
       "      <td>True</td>\n",
       "      <td>1.0</td>\n",
       "      <td>49.26</td>\n",
       "      <td>MN-WI MSA</td>\n",
       "    </tr>\n",
       "  </tbody>\n",
       "</table>\n",
       "<p>5 rows × 22 columns</p>\n",
       "</div>"
      ],
      "text/plain": [
       "      user_id  month  calls_made  call_duration  msg_sent  gb_consumed  \\\n",
       "312      1213     11        10.0           42.0      11.0          2.0   \n",
       "1458     1223      9        87.0          649.0      27.0         20.0   \n",
       "180      1126     11       147.0         1037.0      72.0         21.0   \n",
       "161      1108     12         NaN            NaN       NaN          1.0   \n",
       "1773     1324     12       143.0         1047.0     145.0         16.0   \n",
       "\n",
       "        plan_x  usd_monthly_pay  messages_included  gb_per_month_included  \\\n",
       "312   ultimate               70               1000                   30.0   \n",
       "1458      surf               20                 50                   15.0   \n",
       "180   ultimate               70               1000                   30.0   \n",
       "161   ultimate               70               1000                   30.0   \n",
       "1773      surf               20                 50                   15.0   \n",
       "\n",
       "      ...  usd_per_gb  usd_per_minute  minutes_excess  minutes_excess_qty  \\\n",
       "312   ...           7            0.01           False                 0.0   \n",
       "1458  ...          10            0.03            True               149.0   \n",
       "180   ...           7            0.01           False                 0.0   \n",
       "161   ...           7            0.01           False                 0.0   \n",
       "1773  ...          10            0.03            True               547.0   \n",
       "\n",
       "      msg_excess  msg_excess_qty  internet_excess  internet_excess_qty  \\\n",
       "312        False             0.0            False                  0.0   \n",
       "1458       False             0.0             True                  5.0   \n",
       "180        False             0.0            False                  0.0   \n",
       "161        False             0.0            False                  0.0   \n",
       "1773        True            95.0             True                  1.0   \n",
       "\n",
       "      revenue        region  \n",
       "312     70.00        CA MSA  \n",
       "1458    74.47        AZ MSA  \n",
       "180     70.00  IL-IN-WI MSA  \n",
       "161     70.00        UT MSA  \n",
       "1773    49.26     MN-WI MSA  \n",
       "\n",
       "[5 rows x 22 columns]"
      ]
     },
     "execution_count": 44,
     "metadata": {},
     "output_type": "execute_result"
    }
   ],
   "source": [
    "# merging region in the main dataframe and removing unnecessary columns\n",
    "usermonth_planinfo_details_region = usermonth_planinfo_details.merge(\n",
    "    df_users,\n",
    "    on=\"user_id\"\n",
    ")\n",
    "usermonth_planinfo_details_region.drop([\"first_name\",\"last_name\",\"age\",\"city\",\"reg_date\",\"plan_y\",\"churn_date\"],axis=1, inplace=True)\n",
    "usermonth_planinfo_details_region.sample(5)"
   ]
  },
  {
   "cell_type": "code",
   "execution_count": 45,
   "metadata": {
    "id": "98t8iiJyuj80"
   },
   "outputs": [
    {
     "name": "stdout",
     "output_type": "stream",
     "text": [
      "valor-p:  0.04355743162134274\n",
      "Rejeitamos a hipótese nula - portanto, a receita média dos usuários NY-NJ difere dos usuários das demais regiões\n"
     ]
    }
   ],
   "source": [
    "# Testing the hypothesys that the average revenue of users from NY-NJ area is different from other regions\n",
    "\n",
    "# H0 = average revenue from NY-NJ users is not different from other regions\n",
    "# H1 = average revenue from NY-NJ users is different from other regions\n",
    "\n",
    "sample1 = usermonth_planinfo_details_region[usermonth_planinfo_details_region[\"region\"] == \"NY-NJ-PA MSA\"][\"revenue\"]\n",
    "sample2 = usermonth_planinfo_details_region[usermonth_planinfo_details_region[\"region\"] != \"NY-NJ-PA MSA\"][\"revenue\"]\n",
    "alpha = 0.05\n",
    "\n",
    "results = st.ttest_ind(sample1, sample2) # running the test\n",
    "\n",
    "print('valor-p: ', results.pvalue) # extracting p-value\n",
    "\n",
    "if results.pvalue < alpha: # comparting p-value with threshold\n",
    "    print(\"Reject null hypothesys - therefore average revenue of NY-NJ users is different from other regions\")\n",
    "else:\n",
    "    print(\"Can't reject null hypothesys - therefore average revenue of NY-NJ users is not different from other regions\")"
   ]
  },
  {
   "cell_type": "markdown",
   "metadata": {
    "id": "M8WycwWFuj81"
   },
   "source": [
    "## General Conclusion\n",
    "\n",
    "- We could suggest a migration to the Ultimate plan for Surf plan customers who are outliers in one or more services (minutes, messages, or internet).\n",
    "\n",
    "- We have more revenue coming from the Surf plan, but we observe that many users exceed the package limits of the Surf plan. They could spend less if they switched to the Ultimate plan while maintaining their consumption patterns. We could analyze how much some customers would save by switching from Surf to Ultimate and encourage migration by offering a discount on the first bill or an additional service for the first month or quarter.\n",
    "\n",
    "- All services showed an increase in consumption throughout the year, which could strain the company’s technical capacity to continue providing quality service. Therefore, it might be beneficial to discuss with IT and ensure we are ready to support the growth trend seen in 2018 over the coming years.\n",
    "\n",
    "- The plans show very similar consumption patterns across all services, indicating that some customers may not be on the best plan for their average consumption. For example:\n",
    "   - Ultimate users with up to 500 call minutes could switch to the Surf plan.\n",
    "   - Surf users sending more than 50 messages per month could switch to the Ultimate plan.\n",
    "   - Surf users consuming more than 17 MB could switch to the Ultimate plan."
   ]
  }
 ],
 "metadata": {
  "ExecuteTimeLog": [
   {
    "duration": 828,
    "start_time": "2021-11-16T09:21:11.304Z"
   },
   {
    "duration": 893,
    "start_time": "2021-11-16T09:21:17.728Z"
   },
   {
    "duration": 1150,
    "start_time": "2021-11-16T09:21:29.568Z"
   },
   {
    "duration": 3,
    "start_time": "2021-11-16T09:24:14.495Z"
   },
   {
    "duration": 120,
    "start_time": "2021-11-16T09:24:46.630Z"
   },
   {
    "duration": 3,
    "start_time": "2021-11-16T09:28:27.882Z"
   },
   {
    "duration": 4,
    "start_time": "2021-11-16T09:29:54.281Z"
   },
   {
    "duration": 3,
    "start_time": "2021-11-16T09:30:45.936Z"
   },
   {
    "duration": 4,
    "start_time": "2021-11-16T09:31:06.300Z"
   },
   {
    "duration": 113,
    "start_time": "2021-11-16T09:31:37.208Z"
   },
   {
    "duration": 143,
    "start_time": "2021-11-16T09:31:48.656Z"
   },
   {
    "duration": 98,
    "start_time": "2021-11-16T09:31:55.678Z"
   },
   {
    "duration": 3,
    "start_time": "2021-11-16T09:32:08.535Z"
   },
   {
    "duration": 111,
    "start_time": "2021-11-16T09:32:10.120Z"
   },
   {
    "duration": 3,
    "start_time": "2021-11-16T09:32:15.732Z"
   },
   {
    "duration": 4,
    "start_time": "2021-11-16T09:32:29.423Z"
   },
   {
    "duration": 3,
    "start_time": "2021-11-16T10:03:03.074Z"
   },
   {
    "duration": 3,
    "start_time": "2021-11-16T10:10:01.288Z"
   },
   {
    "duration": 3,
    "start_time": "2021-11-16T10:10:46.923Z"
   },
   {
    "duration": 121,
    "start_time": "2021-11-16T10:37:46.494Z"
   },
   {
    "duration": 125,
    "start_time": "2021-11-16T10:38:20.632Z"
   },
   {
    "duration": 112,
    "start_time": "2021-11-16T10:46:53.001Z"
   },
   {
    "duration": 110,
    "start_time": "2021-11-16T10:48:25.775Z"
   },
   {
    "duration": 3,
    "start_time": "2021-11-16T10:50:18.720Z"
   },
   {
    "duration": 4,
    "start_time": "2021-11-16T10:50:37.649Z"
   },
   {
    "duration": 2,
    "start_time": "2021-11-16T10:50:51.884Z"
   },
   {
    "duration": 3,
    "start_time": "2021-11-16T10:51:56.237Z"
   },
   {
    "duration": 101,
    "start_time": "2021-11-16T10:53:13.791Z"
   },
   {
    "duration": 3,
    "start_time": "2021-11-16T10:55:59.186Z"
   },
   {
    "duration": 3,
    "start_time": "2021-11-16T10:56:10.751Z"
   },
   {
    "duration": 3,
    "start_time": "2021-11-16T10:56:49.038Z"
   },
   {
    "duration": 3,
    "start_time": "2021-11-16T10:56:49.174Z"
   },
   {
    "duration": 4,
    "start_time": "2021-11-16T10:56:49.414Z"
   },
   {
    "duration": 3,
    "start_time": "2021-11-16T10:56:49.680Z"
   },
   {
    "duration": 3,
    "start_time": "2021-11-16T10:56:50.370Z"
   },
   {
    "duration": 114,
    "start_time": "2021-11-16T10:59:34.518Z"
   },
   {
    "duration": 3,
    "start_time": "2021-11-16T11:01:41.201Z"
   },
   {
    "duration": 116,
    "start_time": "2021-11-16T11:01:48.754Z"
   },
   {
    "duration": 3,
    "start_time": "2021-11-16T11:02:16.685Z"
   },
   {
    "duration": 3,
    "start_time": "2021-11-16T11:02:19.479Z"
   },
   {
    "duration": 3,
    "start_time": "2021-11-16T11:02:47.067Z"
   },
   {
    "duration": 3,
    "start_time": "2021-11-16T11:02:49.353Z"
   },
   {
    "duration": 3,
    "start_time": "2021-11-16T11:03:07.835Z"
   },
   {
    "duration": 3,
    "start_time": "2021-11-16T11:03:07.953Z"
   },
   {
    "duration": 112,
    "start_time": "2021-11-16T11:07:52.072Z"
   },
   {
    "duration": 187,
    "start_time": "2021-11-16T11:09:23.468Z"
   },
   {
    "duration": 4,
    "start_time": "2021-11-16T11:10:01.455Z"
   },
   {
    "duration": 3,
    "start_time": "2021-11-16T11:10:05.069Z"
   },
   {
    "duration": 4,
    "start_time": "2021-11-16T11:10:13.376Z"
   },
   {
    "duration": 3,
    "start_time": "2021-11-16T11:10:14.434Z"
   },
   {
    "duration": 3,
    "start_time": "2021-11-16T11:10:22.853Z"
   },
   {
    "duration": 4,
    "start_time": "2021-11-16T11:27:29.279Z"
   },
   {
    "duration": 4,
    "start_time": "2021-11-16T11:29:08.919Z"
   },
   {
    "duration": 118,
    "start_time": "2021-11-16T11:29:46.703Z"
   },
   {
    "duration": 437,
    "start_time": "2021-11-16T11:36:02.181Z"
   },
   {
    "duration": 157,
    "start_time": "2021-11-16T11:36:14.388Z"
   },
   {
    "duration": 207,
    "start_time": "2021-11-16T11:47:15.898Z"
   },
   {
    "duration": 3,
    "start_time": "2021-11-16T11:53:52.092Z"
   },
   {
    "duration": 3,
    "start_time": "2021-11-16T11:53:52.236Z"
   },
   {
    "duration": 3,
    "start_time": "2021-11-16T11:59:12.005Z"
   },
   {
    "duration": 112,
    "start_time": "2021-11-16T12:00:33.446Z"
   },
   {
    "duration": 3,
    "start_time": "2021-11-16T12:02:14.453Z"
   },
   {
    "duration": 3,
    "start_time": "2021-11-16T12:02:39.512Z"
   },
   {
    "duration": 106,
    "start_time": "2021-11-16T12:03:03.460Z"
   },
   {
    "duration": 3,
    "start_time": "2021-11-17T20:37:21.139Z"
   },
   {
    "duration": 3,
    "start_time": "2021-11-17T20:37:22.229Z"
   },
   {
    "duration": 3,
    "start_time": "2021-11-17T20:38:38.806Z"
   },
   {
    "duration": 3,
    "start_time": "2021-11-17T20:38:41.958Z"
   },
   {
    "duration": 3,
    "start_time": "2021-11-17T20:43:46.551Z"
   },
   {
    "duration": 4,
    "start_time": "2021-11-17T20:58:21.835Z"
   },
   {
    "duration": 3,
    "start_time": "2021-11-17T20:59:21.872Z"
   },
   {
    "duration": 4,
    "start_time": "2021-11-17T20:59:45.352Z"
   },
   {
    "duration": 4,
    "start_time": "2021-11-17T20:59:49.646Z"
   },
   {
    "duration": 159,
    "start_time": "2021-11-17T21:02:26.949Z"
   },
   {
    "duration": 3,
    "start_time": "2021-11-17T21:03:53.461Z"
   },
   {
    "duration": 3,
    "start_time": "2021-11-17T21:03:53.694Z"
   },
   {
    "duration": 3,
    "start_time": "2021-11-17T21:05:28.145Z"
   },
   {
    "duration": 116,
    "start_time": "2021-11-17T21:05:57.787Z"
   },
   {
    "duration": 3,
    "start_time": "2021-11-17T21:06:37.993Z"
   },
   {
    "duration": 3,
    "start_time": "2021-11-17T21:06:38.261Z"
   },
   {
    "duration": 3,
    "start_time": "2021-11-17T21:11:54.358Z"
   },
   {
    "duration": 3,
    "start_time": "2021-11-17T21:12:43.846Z"
   },
   {
    "duration": 4,
    "start_time": "2021-11-17T21:13:08.773Z"
   },
   {
    "duration": 3,
    "start_time": "2021-11-17T21:14:44.441Z"
   },
   {
    "duration": 3,
    "start_time": "2021-11-17T21:15:42.059Z"
   },
   {
    "duration": 4,
    "start_time": "2021-11-17T21:15:51.995Z"
   },
   {
    "duration": 3,
    "start_time": "2021-11-17T21:15:53.923Z"
   },
   {
    "duration": 3,
    "start_time": "2021-11-17T21:15:55.282Z"
   },
   {
    "duration": 3,
    "start_time": "2021-11-17T21:16:28.492Z"
   },
   {
    "duration": 3,
    "start_time": "2021-11-17T21:16:32.603Z"
   },
   {
    "duration": 3,
    "start_time": "2021-11-17T21:17:06.941Z"
   },
   {
    "duration": 98,
    "start_time": "2021-11-17T21:18:05.733Z"
   },
   {
    "duration": 4,
    "start_time": "2021-11-17T21:21:35.255Z"
   },
   {
    "duration": 3,
    "start_time": "2021-11-17T21:21:37.804Z"
   },
   {
    "duration": 4,
    "start_time": "2021-11-17T21:23:06.071Z"
   },
   {
    "duration": 3,
    "start_time": "2021-11-17T21:23:24.799Z"
   },
   {
    "duration": 3,
    "start_time": "2021-11-17T21:23:32.591Z"
   },
   {
    "duration": 98,
    "start_time": "2021-11-17T21:28:31.559Z"
   },
   {
    "duration": 3,
    "start_time": "2021-11-17T21:28:45.448Z"
   },
   {
    "duration": 3,
    "start_time": "2021-11-17T21:29:17.303Z"
   },
   {
    "duration": 3,
    "start_time": "2021-11-17T21:29:29.617Z"
   },
   {
    "duration": 3,
    "start_time": "2021-11-17T21:29:32.681Z"
   },
   {
    "duration": 3,
    "start_time": "2021-11-17T21:36:11.474Z"
   },
   {
    "duration": 3,
    "start_time": "2021-11-17T21:36:14.791Z"
   },
   {
    "duration": 3,
    "start_time": "2021-11-17T21:36:53.943Z"
   },
   {
    "duration": 3,
    "start_time": "2021-11-17T21:36:56.165Z"
   },
   {
    "duration": 4,
    "start_time": "2021-11-17T21:37:16.590Z"
   },
   {
    "duration": 3,
    "start_time": "2021-11-17T21:37:22.702Z"
   },
   {
    "duration": 4,
    "start_time": "2021-11-17T21:38:03.479Z"
   },
   {
    "duration": 3,
    "start_time": "2021-11-17T21:38:08.601Z"
   },
   {
    "duration": 3,
    "start_time": "2021-11-17T21:38:12.928Z"
   },
   {
    "duration": 3,
    "start_time": "2021-11-17T21:38:48.896Z"
   },
   {
    "duration": 2,
    "start_time": "2021-11-17T21:38:49.171Z"
   },
   {
    "duration": 4,
    "start_time": "2021-11-17T21:39:57.889Z"
   },
   {
    "duration": 3,
    "start_time": "2021-11-17T21:39:58.057Z"
   },
   {
    "duration": 3,
    "start_time": "2021-11-17T21:41:20.108Z"
   },
   {
    "duration": 3,
    "start_time": "2021-11-17T21:41:20.629Z"
   },
   {
    "duration": 3,
    "start_time": "2021-11-17T21:42:49.136Z"
   },
   {
    "duration": 3,
    "start_time": "2021-11-17T21:43:15.137Z"
   },
   {
    "duration": 4,
    "start_time": "2021-11-17T21:43:16.766Z"
   },
   {
    "duration": 4,
    "start_time": "2021-11-17T21:43:31.711Z"
   },
   {
    "duration": 3,
    "start_time": "2021-11-17T21:43:36.312Z"
   },
   {
    "duration": 4,
    "start_time": "2021-11-17T21:45:08.825Z"
   },
   {
    "duration": 4,
    "start_time": "2021-11-17T21:45:10.119Z"
   },
   {
    "duration": 4,
    "start_time": "2021-11-17T21:45:13.748Z"
   },
   {
    "duration": 3,
    "start_time": "2021-11-17T21:45:22.219Z"
   },
   {
    "duration": 3,
    "start_time": "2021-11-17T21:45:33.412Z"
   },
   {
    "duration": 2,
    "start_time": "2021-11-17T21:46:01.885Z"
   },
   {
    "duration": 3,
    "start_time": "2021-11-17T21:46:03.628Z"
   },
   {
    "duration": 107,
    "start_time": "2021-11-17T21:47:32.512Z"
   },
   {
    "duration": 103,
    "start_time": "2021-11-17T21:50:36.243Z"
   },
   {
    "duration": 3,
    "start_time": "2021-11-18T06:28:31.440Z"
   },
   {
    "duration": 3,
    "start_time": "2021-11-18T06:29:00.168Z"
   },
   {
    "duration": 3,
    "start_time": "2021-11-18T06:31:27.008Z"
   },
   {
    "duration": 2,
    "start_time": "2021-11-18T06:35:34.288Z"
   },
   {
    "duration": 2,
    "start_time": "2021-11-18T06:38:04.527Z"
   },
   {
    "duration": 317,
    "start_time": "2024-06-23T14:58:18.630Z"
   },
   {
    "duration": 1011,
    "start_time": "2024-06-23T14:58:22.743Z"
   },
   {
    "duration": 914,
    "start_time": "2024-06-23T14:58:24.567Z"
   },
   {
    "duration": 132,
    "start_time": "2024-06-23T14:58:44.376Z"
   },
   {
    "duration": 126,
    "start_time": "2024-06-23T14:59:12.533Z"
   },
   {
    "duration": 130,
    "start_time": "2024-06-23T14:59:43.654Z"
   },
   {
    "duration": 382,
    "start_time": "2024-06-23T15:01:04.602Z"
   },
   {
    "duration": 16,
    "start_time": "2024-06-23T15:01:19.053Z"
   },
   {
    "duration": 20,
    "start_time": "2024-06-23T15:01:29.705Z"
   },
   {
    "duration": 13,
    "start_time": "2024-06-23T15:01:48.168Z"
   },
   {
    "duration": 23,
    "start_time": "2024-06-23T15:02:04.252Z"
   },
   {
    "duration": 24,
    "start_time": "2024-06-23T15:04:51.293Z"
   },
   {
    "duration": 10,
    "start_time": "2024-06-23T15:06:08.729Z"
   },
   {
    "duration": 10,
    "start_time": "2024-06-23T15:07:09.631Z"
   },
   {
    "duration": 22,
    "start_time": "2024-06-23T15:09:37.770Z"
   },
   {
    "duration": 17,
    "start_time": "2024-06-23T15:10:04.332Z"
   },
   {
    "duration": 15,
    "start_time": "2024-06-23T15:10:14.925Z"
   },
   {
    "duration": 316,
    "start_time": "2024-06-23T15:11:52.372Z"
   },
   {
    "duration": 963,
    "start_time": "2024-06-23T15:11:54.835Z"
   },
   {
    "duration": 302,
    "start_time": "2024-06-23T15:11:56.595Z"
   },
   {
    "duration": 29,
    "start_time": "2024-06-23T15:11:58.434Z"
   },
   {
    "duration": 459,
    "start_time": "2024-06-23T15:12:11.639Z"
   },
   {
    "duration": 19,
    "start_time": "2024-06-23T15:12:33.932Z"
   },
   {
    "duration": 878,
    "start_time": "2024-06-23T15:12:52.420Z"
   },
   {
    "duration": 283,
    "start_time": "2024-06-23T15:12:53.301Z"
   },
   {
    "duration": 41,
    "start_time": "2024-06-23T15:12:53.587Z"
   },
   {
    "duration": 19,
    "start_time": "2024-06-23T15:13:09.610Z"
   },
   {
    "duration": 977,
    "start_time": "2024-06-23T15:14:37.523Z"
   },
   {
    "duration": 70,
    "start_time": "2024-06-23T15:14:43.266Z"
   },
   {
    "duration": 533,
    "start_time": "2024-06-23T15:15:07.266Z"
   },
   {
    "duration": 924,
    "start_time": "2024-06-23T15:15:35.724Z"
   },
   {
    "duration": 277,
    "start_time": "2024-06-23T15:15:36.653Z"
   },
   {
    "duration": 36,
    "start_time": "2024-06-23T15:15:36.933Z"
   },
   {
    "duration": 19,
    "start_time": "2024-06-23T15:16:18.169Z"
   },
   {
    "duration": 14,
    "start_time": "2024-06-23T15:16:29.508Z"
   },
   {
    "duration": 15,
    "start_time": "2024-06-23T15:16:39.663Z"
   },
   {
    "duration": 14,
    "start_time": "2024-06-23T15:16:45.852Z"
   },
   {
    "duration": 15,
    "start_time": "2024-06-23T15:16:51.017Z"
   },
   {
    "duration": 6,
    "start_time": "2024-06-23T15:23:03.675Z"
   },
   {
    "duration": 451,
    "start_time": "2024-06-23T15:23:45.877Z"
   },
   {
    "duration": 11,
    "start_time": "2024-06-23T15:23:51.668Z"
   },
   {
    "duration": 21,
    "start_time": "2024-06-23T15:24:58.649Z"
   },
   {
    "duration": 15,
    "start_time": "2024-06-23T15:25:11.293Z"
   },
   {
    "duration": 17,
    "start_time": "2024-06-23T15:26:28.211Z"
   },
   {
    "duration": 16,
    "start_time": "2024-06-23T15:26:39.580Z"
   },
   {
    "duration": 18,
    "start_time": "2024-06-23T15:26:46.171Z"
   },
   {
    "duration": 18,
    "start_time": "2024-06-23T15:26:48.532Z"
   },
   {
    "duration": 11,
    "start_time": "2024-06-23T15:27:06.602Z"
   },
   {
    "duration": 4,
    "start_time": "2024-06-23T15:27:15.251Z"
   },
   {
    "duration": 22,
    "start_time": "2024-06-23T15:27:35.048Z"
   },
   {
    "duration": 4,
    "start_time": "2024-06-23T15:27:39.811Z"
   },
   {
    "duration": 16,
    "start_time": "2024-06-23T15:27:43.274Z"
   },
   {
    "duration": 25,
    "start_time": "2024-06-23T15:27:51.367Z"
   },
   {
    "duration": 18,
    "start_time": "2024-06-23T15:28:00.822Z"
   },
   {
    "duration": 53,
    "start_time": "2024-06-23T15:29:21.498Z"
   },
   {
    "duration": 35,
    "start_time": "2024-06-23T15:29:55.073Z"
   },
   {
    "duration": 19,
    "start_time": "2024-06-23T15:30:24.658Z"
   },
   {
    "duration": 13,
    "start_time": "2024-06-23T15:30:33.658Z"
   },
   {
    "duration": 29,
    "start_time": "2024-06-23T15:31:37.644Z"
   },
   {
    "duration": 25,
    "start_time": "2024-06-23T15:31:59.704Z"
   },
   {
    "duration": 15,
    "start_time": "2024-06-23T15:32:11.017Z"
   },
   {
    "duration": 37,
    "start_time": "2024-06-23T15:33:16.304Z"
   },
   {
    "duration": 13,
    "start_time": "2024-06-23T15:33:38.399Z"
   },
   {
    "duration": 24,
    "start_time": "2024-06-23T15:35:50.074Z"
   },
   {
    "duration": 24,
    "start_time": "2024-06-23T15:35:54.519Z"
   },
   {
    "duration": 256,
    "start_time": "2024-06-23T15:36:31.111Z"
   },
   {
    "duration": 24,
    "start_time": "2024-06-23T15:36:42.810Z"
   },
   {
    "duration": 5,
    "start_time": "2024-06-23T15:40:37.819Z"
   },
   {
    "duration": 22,
    "start_time": "2024-06-23T15:40:42.072Z"
   },
   {
    "duration": 44,
    "start_time": "2024-06-23T15:41:40.826Z"
   },
   {
    "duration": 34,
    "start_time": "2024-06-23T15:43:17.468Z"
   },
   {
    "duration": 24,
    "start_time": "2024-06-23T15:45:51.833Z"
   },
   {
    "duration": 24,
    "start_time": "2024-06-23T15:46:20.328Z"
   },
   {
    "duration": 24,
    "start_time": "2024-06-23T15:46:33.136Z"
   },
   {
    "duration": 19,
    "start_time": "2024-06-23T15:48:35.976Z"
   },
   {
    "duration": 922,
    "start_time": "2024-06-23T15:49:51.491Z"
   },
   {
    "duration": 273,
    "start_time": "2024-06-23T15:49:52.417Z"
   },
   {
    "duration": 31,
    "start_time": "2024-06-23T15:49:52.693Z"
   },
   {
    "duration": 14,
    "start_time": "2024-06-23T15:49:52.727Z"
   },
   {
    "duration": 16,
    "start_time": "2024-06-23T15:49:52.746Z"
   },
   {
    "duration": 51,
    "start_time": "2024-06-23T15:49:52.765Z"
   },
   {
    "duration": 5,
    "start_time": "2024-06-23T15:49:52.820Z"
   },
   {
    "duration": 16,
    "start_time": "2024-06-23T15:49:52.829Z"
   },
   {
    "duration": 67,
    "start_time": "2024-06-23T15:49:52.848Z"
   },
   {
    "duration": 18,
    "start_time": "2024-06-23T15:49:52.918Z"
   },
   {
    "duration": 22,
    "start_time": "2024-06-23T15:49:52.939Z"
   },
   {
    "duration": 90,
    "start_time": "2024-06-23T15:49:52.964Z"
   },
   {
    "duration": 19,
    "start_time": "2024-06-23T15:49:53.057Z"
   },
   {
    "duration": 33,
    "start_time": "2024-06-23T15:49:53.081Z"
   },
   {
    "duration": 24,
    "start_time": "2024-06-23T15:49:53.118Z"
   },
   {
    "duration": 29,
    "start_time": "2024-06-23T15:49:53.145Z"
   },
   {
    "duration": 50,
    "start_time": "2024-06-23T15:49:53.177Z"
   },
   {
    "duration": 23,
    "start_time": "2024-06-23T15:49:53.230Z"
   },
   {
    "duration": 17,
    "start_time": "2024-06-23T15:49:53.256Z"
   },
   {
    "duration": 36,
    "start_time": "2024-06-23T15:50:10.385Z"
   },
   {
    "duration": 34,
    "start_time": "2024-06-23T15:50:26.037Z"
   },
   {
    "duration": 35,
    "start_time": "2024-06-23T15:50:36.014Z"
   },
   {
    "duration": 36,
    "start_time": "2024-06-23T15:50:53.113Z"
   },
   {
    "duration": 379,
    "start_time": "2024-06-23T15:51:11.333Z"
   },
   {
    "duration": 46,
    "start_time": "2024-06-23T15:52:09.197Z"
   },
   {
    "duration": 33,
    "start_time": "2024-06-23T15:52:13.892Z"
   },
   {
    "duration": 18,
    "start_time": "2024-06-23T15:52:18.573Z"
   },
   {
    "duration": 17,
    "start_time": "2024-06-23T15:52:40.090Z"
   },
   {
    "duration": 18,
    "start_time": "2024-06-23T15:52:57.469Z"
   },
   {
    "duration": 32,
    "start_time": "2024-06-23T15:53:24.301Z"
   },
   {
    "duration": 32,
    "start_time": "2024-06-23T15:53:53.688Z"
   },
   {
    "duration": 34,
    "start_time": "2024-06-23T15:53:57.742Z"
   },
   {
    "duration": 30,
    "start_time": "2024-06-23T15:54:55.137Z"
   },
   {
    "duration": 8,
    "start_time": "2024-06-23T15:55:07.418Z"
   },
   {
    "duration": 32,
    "start_time": "2024-06-23T15:55:15.284Z"
   },
   {
    "duration": 10,
    "start_time": "2024-06-23T15:55:24.715Z"
   },
   {
    "duration": 43,
    "start_time": "2024-06-23T15:55:48.858Z"
   },
   {
    "duration": 9,
    "start_time": "2024-06-23T15:56:09.856Z"
   },
   {
    "duration": 18,
    "start_time": "2024-06-23T15:56:21.602Z"
   },
   {
    "duration": 907,
    "start_time": "2024-06-23T15:56:33.546Z"
   },
   {
    "duration": 272,
    "start_time": "2024-06-23T15:56:34.457Z"
   },
   {
    "duration": 33,
    "start_time": "2024-06-23T15:56:34.732Z"
   },
   {
    "duration": 15,
    "start_time": "2024-06-23T15:56:34.770Z"
   },
   {
    "duration": 17,
    "start_time": "2024-06-23T15:56:34.813Z"
   },
   {
    "duration": 18,
    "start_time": "2024-06-23T15:56:34.833Z"
   },
   {
    "duration": 6,
    "start_time": "2024-06-23T15:56:34.855Z"
   },
   {
    "duration": 53,
    "start_time": "2024-06-23T15:56:34.867Z"
   },
   {
    "duration": 35,
    "start_time": "2024-06-23T15:56:34.924Z"
   },
   {
    "duration": 45,
    "start_time": "2024-06-23T15:56:34.967Z"
   },
   {
    "duration": 23,
    "start_time": "2024-06-23T15:56:35.015Z"
   },
   {
    "duration": 45,
    "start_time": "2024-06-23T15:56:35.041Z"
   },
   {
    "duration": 20,
    "start_time": "2024-06-23T15:56:35.113Z"
   },
   {
    "duration": 13,
    "start_time": "2024-06-23T15:56:35.136Z"
   },
   {
    "duration": 19,
    "start_time": "2024-06-23T15:56:35.152Z"
   },
   {
    "duration": 59,
    "start_time": "2024-06-23T15:56:35.174Z"
   },
   {
    "duration": 15,
    "start_time": "2024-06-23T15:56:35.236Z"
   },
   {
    "duration": 22,
    "start_time": "2024-06-23T15:56:35.254Z"
   },
   {
    "duration": 13,
    "start_time": "2024-06-23T15:56:35.311Z"
   },
   {
    "duration": 37,
    "start_time": "2024-06-23T15:56:35.327Z"
   },
   {
    "duration": 474,
    "start_time": "2024-06-23T15:56:35.367Z"
   },
   {
    "duration": 0,
    "start_time": "2024-06-23T15:56:35.844Z"
   },
   {
    "duration": 0,
    "start_time": "2024-06-23T15:56:35.846Z"
   },
   {
    "duration": 0,
    "start_time": "2024-06-23T15:56:35.848Z"
   },
   {
    "duration": 0,
    "start_time": "2024-06-23T15:56:35.851Z"
   },
   {
    "duration": 0,
    "start_time": "2024-06-23T15:56:35.854Z"
   },
   {
    "duration": 0,
    "start_time": "2024-06-23T15:56:35.856Z"
   },
   {
    "duration": 0,
    "start_time": "2024-06-23T15:56:35.858Z"
   },
   {
    "duration": 0,
    "start_time": "2024-06-23T15:56:35.861Z"
   },
   {
    "duration": 0,
    "start_time": "2024-06-23T15:56:35.863Z"
   },
   {
    "duration": 0,
    "start_time": "2024-06-23T15:56:35.865Z"
   },
   {
    "duration": 0,
    "start_time": "2024-06-23T15:56:35.868Z"
   },
   {
    "duration": 0,
    "start_time": "2024-06-23T15:56:35.870Z"
   },
   {
    "duration": 0,
    "start_time": "2024-06-23T15:56:35.872Z"
   },
   {
    "duration": 24,
    "start_time": "2024-06-23T15:56:53.285Z"
   },
   {
    "duration": 23,
    "start_time": "2024-06-23T15:58:33.986Z"
   },
   {
    "duration": 21,
    "start_time": "2024-06-23T16:00:19.732Z"
   },
   {
    "duration": 24,
    "start_time": "2024-06-23T16:00:45.361Z"
   },
   {
    "duration": 25,
    "start_time": "2024-06-23T16:02:18.361Z"
   },
   {
    "duration": 37,
    "start_time": "2024-06-23T16:03:47.210Z"
   },
   {
    "duration": 15,
    "start_time": "2024-06-23T16:07:40.077Z"
   },
   {
    "duration": 38,
    "start_time": "2024-06-23T16:11:45.450Z"
   },
   {
    "duration": 52,
    "start_time": "2024-06-23T16:14:30.776Z"
   },
   {
    "duration": 35,
    "start_time": "2024-06-23T16:15:54.680Z"
   },
   {
    "duration": 10,
    "start_time": "2024-06-23T16:18:55.870Z"
   },
   {
    "duration": 1869,
    "start_time": "2024-06-23T16:19:13.022Z"
   },
   {
    "duration": 113,
    "start_time": "2024-06-23T16:19:31.147Z"
   },
   {
    "duration": 47,
    "start_time": "2024-06-23T16:19:46.010Z"
   },
   {
    "duration": 53,
    "start_time": "2024-06-23T16:19:56.285Z"
   },
   {
    "duration": 35,
    "start_time": "2024-06-23T16:20:10.814Z"
   },
   {
    "duration": 32,
    "start_time": "2024-06-23T16:20:18.871Z"
   },
   {
    "duration": 34,
    "start_time": "2024-06-23T16:20:22.510Z"
   },
   {
    "duration": 42,
    "start_time": "2024-06-23T16:21:34.681Z"
   },
   {
    "duration": 15,
    "start_time": "2024-06-23T16:26:11.966Z"
   },
   {
    "duration": 23,
    "start_time": "2024-06-23T16:27:18.986Z"
   },
   {
    "duration": 19,
    "start_time": "2024-06-23T16:27:52.869Z"
   },
   {
    "duration": 27,
    "start_time": "2024-06-23T16:28:17.078Z"
   },
   {
    "duration": 27,
    "start_time": "2024-06-23T16:28:47.146Z"
   },
   {
    "duration": 30,
    "start_time": "2024-06-23T16:30:28.113Z"
   },
   {
    "duration": 36,
    "start_time": "2024-06-23T16:32:37.520Z"
   },
   {
    "duration": 35,
    "start_time": "2024-06-23T16:35:26.223Z"
   },
   {
    "duration": 21,
    "start_time": "2024-06-23T16:35:42.993Z"
   },
   {
    "duration": 25,
    "start_time": "2024-06-23T16:35:57.113Z"
   },
   {
    "duration": 30,
    "start_time": "2024-06-23T16:36:10.342Z"
   },
   {
    "duration": 39,
    "start_time": "2024-06-23T16:36:13.037Z"
   },
   {
    "duration": 35,
    "start_time": "2024-06-23T16:36:20.982Z"
   },
   {
    "duration": 26,
    "start_time": "2024-06-23T16:36:30.398Z"
   },
   {
    "duration": 253,
    "start_time": "2024-06-23T16:36:36.501Z"
   },
   {
    "duration": 25,
    "start_time": "2024-06-23T16:36:50.550Z"
   },
   {
    "duration": 65,
    "start_time": "2024-06-23T16:37:01.973Z"
   },
   {
    "duration": 27,
    "start_time": "2024-06-23T16:37:20.372Z"
   },
   {
    "duration": 26,
    "start_time": "2024-06-23T16:38:55.924Z"
   },
   {
    "duration": 511,
    "start_time": "2024-06-23T16:39:27.220Z"
   },
   {
    "duration": 131,
    "start_time": "2024-06-23T16:39:44.588Z"
   },
   {
    "duration": 27,
    "start_time": "2024-06-23T16:43:17.489Z"
   },
   {
    "duration": 33,
    "start_time": "2024-06-23T16:46:28.565Z"
   },
   {
    "duration": 40,
    "start_time": "2024-06-23T16:47:53.812Z"
   },
   {
    "duration": 28,
    "start_time": "2024-06-23T16:49:12.038Z"
   },
   {
    "duration": 39,
    "start_time": "2024-06-23T16:49:27.902Z"
   },
   {
    "duration": 34,
    "start_time": "2024-06-23T16:50:25.205Z"
   },
   {
    "duration": 38,
    "start_time": "2024-06-23T16:50:35.297Z"
   },
   {
    "duration": 37,
    "start_time": "2024-06-23T16:51:24.521Z"
   },
   {
    "duration": 41,
    "start_time": "2024-06-23T16:54:23.574Z"
   },
   {
    "duration": 39,
    "start_time": "2024-06-23T16:54:33.429Z"
   },
   {
    "duration": 64,
    "start_time": "2024-06-23T16:54:42.524Z"
   },
   {
    "duration": 63,
    "start_time": "2024-06-23T16:55:58.817Z"
   },
   {
    "duration": 38,
    "start_time": "2024-06-23T16:56:04.811Z"
   },
   {
    "duration": 9,
    "start_time": "2024-06-23T16:59:28.811Z"
   },
   {
    "duration": 67,
    "start_time": "2024-06-23T16:59:48.771Z"
   },
   {
    "duration": 39,
    "start_time": "2024-06-23T17:00:23.921Z"
   },
   {
    "duration": 29,
    "start_time": "2024-06-23T17:00:40.528Z"
   },
   {
    "duration": 40,
    "start_time": "2024-06-23T17:01:00.118Z"
   },
   {
    "duration": 43,
    "start_time": "2024-06-23T17:02:09.016Z"
   },
   {
    "duration": 45,
    "start_time": "2024-06-23T17:03:05.407Z"
   },
   {
    "duration": 13,
    "start_time": "2024-06-23T17:04:41.000Z"
   },
   {
    "duration": 36,
    "start_time": "2024-06-23T17:04:42.677Z"
   },
   {
    "duration": 43,
    "start_time": "2024-06-23T17:07:14.277Z"
   },
   {
    "duration": 9,
    "start_time": "2024-06-23T17:09:27.676Z"
   },
   {
    "duration": 10,
    "start_time": "2024-06-23T17:09:36.776Z"
   },
   {
    "duration": 45,
    "start_time": "2024-06-23T17:11:54.014Z"
   },
   {
    "duration": 42,
    "start_time": "2024-06-23T17:12:51.682Z"
   },
   {
    "duration": 43,
    "start_time": "2024-06-23T17:13:37.193Z"
   },
   {
    "duration": 41,
    "start_time": "2024-06-23T17:15:18.624Z"
   },
   {
    "duration": 4032,
    "start_time": "2024-06-23T17:19:45.158Z"
   },
   {
    "duration": 166,
    "start_time": "2024-06-23T17:20:05.738Z"
   },
   {
    "duration": 197,
    "start_time": "2024-06-23T17:20:34.689Z"
   },
   {
    "duration": 175,
    "start_time": "2024-06-23T17:20:42.925Z"
   },
   {
    "duration": 274,
    "start_time": "2024-06-23T17:20:49.126Z"
   },
   {
    "duration": 221,
    "start_time": "2024-06-23T17:21:53.602Z"
   },
   {
    "duration": 257,
    "start_time": "2024-06-23T17:22:26.541Z"
   },
   {
    "duration": 218,
    "start_time": "2024-06-23T17:22:57.620Z"
   },
   {
    "duration": 6,
    "start_time": "2024-06-23T17:24:41.020Z"
   },
   {
    "duration": 207,
    "start_time": "2024-06-23T17:24:56.820Z"
   },
   {
    "duration": 181,
    "start_time": "2024-06-23T17:25:18.503Z"
   },
   {
    "duration": 193,
    "start_time": "2024-06-23T17:25:45.251Z"
   },
   {
    "duration": 7,
    "start_time": "2024-06-23T17:26:56.653Z"
   },
   {
    "duration": 51,
    "start_time": "2024-06-23T17:28:18.925Z"
   },
   {
    "duration": 13,
    "start_time": "2024-06-23T17:28:33.121Z"
   },
   {
    "duration": 9,
    "start_time": "2024-06-23T17:29:08.689Z"
   },
   {
    "duration": 9,
    "start_time": "2024-06-23T17:29:23.266Z"
   },
   {
    "duration": 138,
    "start_time": "2024-06-23T17:30:36.425Z"
   },
   {
    "duration": 30,
    "start_time": "2024-06-23T17:31:04.700Z"
   },
   {
    "duration": 31,
    "start_time": "2024-06-23T17:31:13.077Z"
   },
   {
    "duration": 10,
    "start_time": "2024-06-23T17:33:24.368Z"
   },
   {
    "duration": 11,
    "start_time": "2024-06-23T17:33:45.775Z"
   },
   {
    "duration": 688,
    "start_time": "2024-06-23T17:34:52.504Z"
   },
   {
    "duration": 106,
    "start_time": "2024-06-23T17:35:04.979Z"
   },
   {
    "duration": 1633,
    "start_time": "2024-06-23T17:35:40.153Z"
   },
   {
    "duration": 9,
    "start_time": "2024-06-23T17:36:43.006Z"
   },
   {
    "duration": 23,
    "start_time": "2024-06-23T17:36:50.548Z"
   },
   {
    "duration": 9,
    "start_time": "2024-06-23T17:37:03.476Z"
   },
   {
    "duration": 153,
    "start_time": "2024-06-23T17:37:17.733Z"
   },
   {
    "duration": 6,
    "start_time": "2024-06-23T17:38:04.534Z"
   },
   {
    "duration": 61,
    "start_time": "2024-06-23T17:38:14.337Z"
   },
   {
    "duration": 169,
    "start_time": "2024-06-23T17:38:35.870Z"
   },
   {
    "duration": 204,
    "start_time": "2024-06-23T17:39:39.643Z"
   },
   {
    "duration": 346,
    "start_time": "2024-06-23T17:39:45.830Z"
   },
   {
    "duration": 161,
    "start_time": "2024-06-23T17:39:55.892Z"
   },
   {
    "duration": 28,
    "start_time": "2024-06-23T17:42:55.449Z"
   },
   {
    "duration": 226,
    "start_time": "2024-06-23T17:43:20.266Z"
   },
   {
    "duration": 54,
    "start_time": "2024-06-23T17:44:13.135Z"
   },
   {
    "duration": 27,
    "start_time": "2024-06-23T17:44:49.554Z"
   },
   {
    "duration": 50,
    "start_time": "2024-06-23T17:45:06.330Z"
   },
   {
    "duration": 25,
    "start_time": "2024-06-23T17:45:15.736Z"
   },
   {
    "duration": 32,
    "start_time": "2024-06-23T17:45:30.633Z"
   },
   {
    "duration": 14,
    "start_time": "2024-06-23T17:45:57.545Z"
   },
   {
    "duration": 66,
    "start_time": "2024-06-23T17:45:59.094Z"
   },
   {
    "duration": 41,
    "start_time": "2024-06-23T17:46:02.889Z"
   },
   {
    "duration": 324,
    "start_time": "2024-06-23T17:46:20.465Z"
   },
   {
    "duration": 13,
    "start_time": "2024-06-23T17:46:29.314Z"
   },
   {
    "duration": 15,
    "start_time": "2024-06-23T17:47:03.771Z"
   },
   {
    "duration": 49,
    "start_time": "2024-06-23T17:47:06.090Z"
   },
   {
    "duration": 47,
    "start_time": "2024-06-23T17:47:22.202Z"
   },
   {
    "duration": 338,
    "start_time": "2024-06-23T17:47:52.560Z"
   },
   {
    "duration": 300,
    "start_time": "2024-06-23T17:50:38.738Z"
   },
   {
    "duration": 301,
    "start_time": "2024-06-23T17:50:59.895Z"
   },
   {
    "duration": 306,
    "start_time": "2024-06-23T17:51:28.187Z"
   },
   {
    "duration": 412,
    "start_time": "2024-06-23T17:51:46.497Z"
   },
   {
    "duration": 6,
    "start_time": "2024-06-23T17:54:25.677Z"
   },
   {
    "duration": 243,
    "start_time": "2024-06-23T17:54:30.560Z"
   },
   {
    "duration": 248,
    "start_time": "2024-06-23T17:54:54.347Z"
   },
   {
    "duration": 7,
    "start_time": "2024-06-23T17:55:15.083Z"
   },
   {
    "duration": 536,
    "start_time": "2024-06-23T17:55:19.500Z"
   },
   {
    "duration": 252,
    "start_time": "2024-06-23T17:55:33.676Z"
   },
   {
    "duration": 313,
    "start_time": "2024-06-23T17:56:10.728Z"
   },
   {
    "duration": 286,
    "start_time": "2024-06-23T17:56:21.692Z"
   },
   {
    "duration": 899,
    "start_time": "2024-06-23T17:56:35.150Z"
   },
   {
    "duration": 298,
    "start_time": "2024-06-23T17:56:49.479Z"
   },
   {
    "duration": 307,
    "start_time": "2024-06-23T17:57:44.834Z"
   },
   {
    "duration": 32,
    "start_time": "2024-06-23T19:00:33.868Z"
   },
   {
    "duration": 188,
    "start_time": "2024-06-23T19:00:38.148Z"
   },
   {
    "duration": 39,
    "start_time": "2024-06-23T19:00:59.791Z"
   },
   {
    "duration": 13,
    "start_time": "2024-06-23T19:01:15.185Z"
   },
   {
    "duration": 153,
    "start_time": "2024-06-23T19:02:25.129Z"
   },
   {
    "duration": 221,
    "start_time": "2024-06-23T19:03:41.903Z"
   },
   {
    "duration": 86,
    "start_time": "2024-06-23T19:04:45.711Z"
   },
   {
    "duration": 194,
    "start_time": "2024-06-23T19:04:57.902Z"
   },
   {
    "duration": 323,
    "start_time": "2024-06-23T19:07:51.644Z"
   },
   {
    "duration": 339,
    "start_time": "2024-06-23T19:08:35.024Z"
   },
   {
    "duration": 335,
    "start_time": "2024-06-23T19:08:40.301Z"
   },
   {
    "duration": 310,
    "start_time": "2024-06-23T19:08:50.061Z"
   },
   {
    "duration": 13,
    "start_time": "2024-06-23T19:10:35.277Z"
   },
   {
    "duration": 178,
    "start_time": "2024-06-23T19:12:04.516Z"
   },
   {
    "duration": 312,
    "start_time": "2024-06-23T19:15:11.225Z"
   },
   {
    "duration": 305,
    "start_time": "2024-06-23T19:15:23.425Z"
   },
   {
    "duration": 15,
    "start_time": "2024-06-23T19:16:19.576Z"
   },
   {
    "duration": 15,
    "start_time": "2024-06-23T19:17:26.881Z"
   },
   {
    "duration": 15,
    "start_time": "2024-06-23T19:20:30.462Z"
   },
   {
    "duration": 194,
    "start_time": "2024-06-23T19:22:04.975Z"
   },
   {
    "duration": 302,
    "start_time": "2024-06-23T19:23:11.746Z"
   },
   {
    "duration": 297,
    "start_time": "2024-06-23T19:23:21.438Z"
   },
   {
    "duration": 182,
    "start_time": "2024-06-23T19:24:49.932Z"
   },
   {
    "duration": 190,
    "start_time": "2024-06-23T19:24:54.436Z"
   },
   {
    "duration": 185,
    "start_time": "2024-06-23T19:25:13.497Z"
   },
   {
    "duration": 180,
    "start_time": "2024-06-23T19:25:19.109Z"
   },
   {
    "duration": 14,
    "start_time": "2024-06-23T19:28:52.988Z"
   },
   {
    "duration": 173,
    "start_time": "2024-06-23T19:29:20.274Z"
   },
   {
    "duration": 6,
    "start_time": "2024-06-23T19:35:45.311Z"
   },
   {
    "duration": 7,
    "start_time": "2024-06-23T19:35:49.878Z"
   },
   {
    "duration": 8,
    "start_time": "2024-06-23T19:35:52.782Z"
   },
   {
    "duration": 8,
    "start_time": "2024-06-23T19:36:22.586Z"
   },
   {
    "duration": 6,
    "start_time": "2024-06-23T19:36:57.118Z"
   },
   {
    "duration": 38,
    "start_time": "2024-06-23T19:37:10.296Z"
   },
   {
    "duration": 13,
    "start_time": "2024-06-23T19:37:15.301Z"
   },
   {
    "duration": 12,
    "start_time": "2024-06-23T19:40:30.352Z"
   },
   {
    "duration": 13,
    "start_time": "2024-06-23T19:41:10.575Z"
   },
   {
    "duration": 16,
    "start_time": "2024-06-23T19:44:38.258Z"
   },
   {
    "duration": 20,
    "start_time": "2024-06-23T19:45:04.577Z"
   },
   {
    "duration": 31,
    "start_time": "2024-06-23T19:45:11.587Z"
   },
   {
    "duration": 19,
    "start_time": "2024-06-23T19:45:25.836Z"
   },
   {
    "duration": 28,
    "start_time": "2024-06-23T19:47:14.805Z"
   },
   {
    "duration": 48,
    "start_time": "2024-06-23T19:47:19.902Z"
   },
   {
    "duration": 18,
    "start_time": "2024-06-23T19:47:36.889Z"
   },
   {
    "duration": 43,
    "start_time": "2024-06-23T19:48:52.841Z"
   },
   {
    "duration": 51,
    "start_time": "2024-06-23T19:51:23.671Z"
   },
   {
    "duration": 50,
    "start_time": "2024-06-23T19:53:20.122Z"
   },
   {
    "duration": 50,
    "start_time": "2024-06-23T19:54:40.070Z"
   },
   {
    "duration": 44,
    "start_time": "2024-06-23T19:56:30.445Z"
   },
   {
    "duration": 187,
    "start_time": "2024-06-23T19:56:37.024Z"
   },
   {
    "duration": 82,
    "start_time": "2024-06-23T19:56:48.159Z"
   },
   {
    "duration": 79,
    "start_time": "2024-06-23T19:56:52.048Z"
   },
   {
    "duration": 11,
    "start_time": "2024-06-23T19:57:13.227Z"
   },
   {
    "duration": 11,
    "start_time": "2024-06-23T19:57:39.419Z"
   },
   {
    "duration": 993,
    "start_time": "2024-06-24T11:34:44.566Z"
   },
   {
    "duration": 382,
    "start_time": "2024-06-24T11:34:45.563Z"
   },
   {
    "duration": 30,
    "start_time": "2024-06-24T11:34:45.948Z"
   },
   {
    "duration": 14,
    "start_time": "2024-06-24T11:34:45.981Z"
   },
   {
    "duration": 33,
    "start_time": "2024-06-24T11:34:46.000Z"
   },
   {
    "duration": 16,
    "start_time": "2024-06-24T11:34:46.036Z"
   },
   {
    "duration": 5,
    "start_time": "2024-06-24T11:34:46.055Z"
   },
   {
    "duration": 19,
    "start_time": "2024-06-24T11:34:46.062Z"
   },
   {
    "duration": 68,
    "start_time": "2024-06-24T11:34:46.085Z"
   },
   {
    "duration": 18,
    "start_time": "2024-06-24T11:34:46.156Z"
   },
   {
    "duration": 22,
    "start_time": "2024-06-24T11:34:46.176Z"
   },
   {
    "duration": 45,
    "start_time": "2024-06-24T11:34:46.231Z"
   },
   {
    "duration": 19,
    "start_time": "2024-06-24T11:34:46.279Z"
   },
   {
    "duration": 13,
    "start_time": "2024-06-24T11:34:46.330Z"
   },
   {
    "duration": 20,
    "start_time": "2024-06-24T11:34:46.346Z"
   },
   {
    "duration": 25,
    "start_time": "2024-06-24T11:34:46.370Z"
   },
   {
    "duration": 20,
    "start_time": "2024-06-24T11:34:46.431Z"
   },
   {
    "duration": 25,
    "start_time": "2024-06-24T11:34:46.454Z"
   },
   {
    "duration": 12,
    "start_time": "2024-06-24T11:34:46.482Z"
   },
   {
    "duration": 35,
    "start_time": "2024-06-24T11:34:46.532Z"
   },
   {
    "duration": 20,
    "start_time": "2024-06-24T11:34:46.570Z"
   },
   {
    "duration": 52,
    "start_time": "2024-06-24T11:34:46.592Z"
   },
   {
    "duration": 24,
    "start_time": "2024-06-24T11:34:46.647Z"
   },
   {
    "duration": 125,
    "start_time": "2024-06-24T11:34:46.674Z"
   },
   {
    "duration": 41,
    "start_time": "2024-06-24T11:34:46.802Z"
   },
   {
    "duration": 15,
    "start_time": "2024-06-24T11:34:46.846Z"
   },
   {
    "duration": 68,
    "start_time": "2024-06-24T11:34:46.864Z"
   },
   {
    "duration": 47,
    "start_time": "2024-06-24T11:34:46.935Z"
   },
   {
    "duration": 4392,
    "start_time": "2024-06-24T11:34:46.985Z"
   },
   {
    "duration": 332,
    "start_time": "2024-06-24T11:34:51.380Z"
   },
   {
    "duration": 24,
    "start_time": "2024-06-24T11:34:51.715Z"
   },
   {
    "duration": 350,
    "start_time": "2024-06-24T11:34:51.744Z"
   },
   {
    "duration": 391,
    "start_time": "2024-06-24T11:34:52.097Z"
   },
   {
    "duration": 14,
    "start_time": "2024-06-24T11:34:52.491Z"
   },
   {
    "duration": 199,
    "start_time": "2024-06-24T11:34:52.509Z"
   },
   {
    "duration": 322,
    "start_time": "2024-06-24T11:34:52.711Z"
   },
   {
    "duration": 16,
    "start_time": "2024-06-24T11:34:53.036Z"
   },
   {
    "duration": 218,
    "start_time": "2024-06-24T11:34:53.056Z"
   },
   {
    "duration": 308,
    "start_time": "2024-06-24T11:34:53.277Z"
   },
   {
    "duration": 14,
    "start_time": "2024-06-24T11:34:53.589Z"
   },
   {
    "duration": 202,
    "start_time": "2024-06-24T11:34:53.631Z"
   },
   {
    "duration": 13,
    "start_time": "2024-06-24T11:34:53.836Z"
   },
   {
    "duration": 22,
    "start_time": "2024-06-24T11:34:53.853Z"
   },
   {
    "duration": 79,
    "start_time": "2024-06-24T11:34:53.878Z"
   },
   {
    "duration": 12,
    "start_time": "2024-06-24T11:34:53.961Z"
   },
   {
    "duration": 10,
    "start_time": "2024-06-24T11:35:30.792Z"
   },
   {
    "duration": 18,
    "start_time": "2024-06-24T11:36:03.845Z"
   },
   {
    "duration": 19,
    "start_time": "2024-06-24T11:36:25.561Z"
   },
   {
    "duration": 21,
    "start_time": "2024-06-24T11:36:36.019Z"
   },
   {
    "duration": 10,
    "start_time": "2024-06-24T11:37:29.039Z"
   },
   {
    "duration": 15,
    "start_time": "2024-06-24T11:37:52.425Z"
   }
  ],
  "colab": {
   "provenance": []
  },
  "kernelspec": {
   "display_name": "Python 3 (ipykernel)",
   "language": "python",
   "name": "python3"
  },
  "language_info": {
   "codemirror_mode": {
    "name": "ipython",
    "version": 3
   },
   "file_extension": ".py",
   "mimetype": "text/x-python",
   "name": "python",
   "nbconvert_exporter": "python",
   "pygments_lexer": "ipython3",
   "version": "3.9.19"
  },
  "toc": {
   "base_numbering": 1,
   "nav_menu": {},
   "number_sections": true,
   "sideBar": true,
   "skip_h1_title": false,
   "title_cell": "Table of Contents",
   "title_sidebar": "Contents",
   "toc_cell": false,
   "toc_position": {
    "height": "calc(100% - 180px)",
    "left": "10px",
    "top": "150px",
    "width": "317px"
   },
   "toc_section_display": true,
   "toc_window_display": true
  }
 },
 "nbformat": 4,
 "nbformat_minor": 1
}
